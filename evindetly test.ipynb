{
 "cells": [
  {
   "cell_type": "code",
   "execution_count": null,
   "id": "635239a6",
   "metadata": {},
   "outputs": [],
   "source": []
  },
  {
   "cell_type": "code",
   "execution_count": 3,
   "id": "8018d9e7",
   "metadata": {},
   "outputs": [
    {
     "ename": "ModuleNotFoundError",
     "evalue": "No module named 'mangum'",
     "output_type": "error",
     "traceback": [
      "\u001b[1;31m---------------------------------------------------------------------------\u001b[0m",
      "\u001b[1;31mModuleNotFoundError\u001b[0m                       Traceback (most recent call last)",
      "\u001b[1;32m~\\AppData\\Local\\Temp\\ipykernel_164\\575390704.py\u001b[0m in \u001b[0;36m<cell line: 43>\u001b[1;34m()\u001b[0m\n\u001b[0;32m     41\u001b[0m \u001b[1;32mfrom\u001b[0m \u001b[0msklearn\u001b[0m\u001b[1;33m.\u001b[0m\u001b[0mpreprocessing\u001b[0m \u001b[1;32mimport\u001b[0m \u001b[0mMinMaxScaler\u001b[0m\u001b[1;33m\u001b[0m\u001b[1;33m\u001b[0m\u001b[0m\n\u001b[0;32m     42\u001b[0m \u001b[1;32mfrom\u001b[0m \u001b[0msklearn\u001b[0m\u001b[1;33m.\u001b[0m\u001b[0mimpute\u001b[0m \u001b[1;32mimport\u001b[0m \u001b[0mSimpleImputer\u001b[0m\u001b[1;33m\u001b[0m\u001b[1;33m\u001b[0m\u001b[0m\n\u001b[1;32m---> 43\u001b[1;33m \u001b[1;32mfrom\u001b[0m \u001b[0mmangum\u001b[0m \u001b[1;32mimport\u001b[0m \u001b[0mMangum\u001b[0m\u001b[1;33m\u001b[0m\u001b[1;33m\u001b[0m\u001b[0m\n\u001b[0m\u001b[0;32m     44\u001b[0m \u001b[1;32mimport\u001b[0m \u001b[0mos\u001b[0m\u001b[1;33m\u001b[0m\u001b[1;33m\u001b[0m\u001b[0m\n\u001b[0;32m     45\u001b[0m \u001b[1;32mimport\u001b[0m \u001b[0mlogging\u001b[0m\u001b[1;33m\u001b[0m\u001b[1;33m\u001b[0m\u001b[0m\n",
      "\u001b[1;31mModuleNotFoundError\u001b[0m: No module named 'mangum'"
     ]
    }
   ],
   "source": [
    "import pandas as pd\n",
    "import requests\n",
    "from datetime import datetime\n",
    "# Externas\n",
    "from evidently import ColumnMapping\n",
    "from evidently.metrics import (\n",
    "    RegressionQualityMetric,\n",
    "    RegressionPredictedVsActualScatter,\n",
    "    RegressionPredictedVsActualPlot,\n",
    "    RegressionErrorPlot,\n",
    "    RegressionAbsPercentageErrorPlot,\n",
    "    RegressionErrorDistribution,\n",
    "    RegressionErrorNormality,\n",
    "    RegressionTopErrorMetric\n",
    ")\n",
    "from evidently.metric_preset import TargetDriftPreset\n",
    "from evidently.report import Report\n",
    "from typing import List, Text\n",
    "from google.cloud import bigquery\n",
    "import logging\n",
    "from evidently import ColumnMapping\n",
    "\n",
    "#----------------\n",
    "\n",
    "from fastapi import FastAPI, UploadFile, File, BackgroundTasks\n",
    "from fastapi.responses import(\n",
    "    HTMLResponse,\n",
    "    JSONResponse,\n",
    "    Response,\n",
    "    FileResponse\n",
    ")\n",
    "import numpy as np\n",
    "import json\n",
    "#from fastapi.encoders import jsonable_encoder\n",
    "from fastapi.responses import JSONResponse\n",
    "from pydantic import BaseModel\n",
    "from typing import List, Dict, Any, Callable, Text\n",
    "import pandas as pd\n",
    "import uvicorn\n",
    "from joblib import load\n",
    "from sklearn.preprocessing import MinMaxScaler\n",
    "from sklearn.impute import SimpleImputer\n",
    "from mangum import Mangum\n",
    "import os\n",
    "import logging\n",
    "\n"
   ]
  },
  {
   "cell_type": "markdown",
   "id": "01e7bf6c",
   "metadata": {},
   "source": [
    "# CARGAMOS CURRENT y REFERENCE DATA"
   ]
  },
  {
   "cell_type": "markdown",
   "id": "1b2a880b",
   "metadata": {},
   "source": [
    "### Current data"
   ]
  },
  {
   "cell_type": "code",
   "execution_count": 29,
   "id": "fb168a88",
   "metadata": {},
   "outputs": [],
   "source": [
    "# Cargar el archivo CSV\n",
    "credentials_path = 'src/connections/protean-fabric-386717-d6a21dd66382.json'\n",
    "credentials_dir = open(credentials_path, 'rb')"
   ]
  },
  {
   "cell_type": "code",
   "execution_count": 43,
   "id": "48e02716",
   "metadata": {},
   "outputs": [],
   "source": [
    "# bigquery_connection.py\n",
    "from google.cloud import bigquery\n",
    "from google.oauth2 import service_account\n",
    "import os\n",
    "\n",
    "def connect_to_bigquery():\n",
    "\n",
    "    # Load BigQuery credentials from the secret\n",
    "    #credentials_json = os.environ.get('GOOGLE_APPLICATION_CREDENTIALS')\n",
    "\n",
    "    # Load BigQuery credentials from the service_account.json file\n",
    "    #credentials = service_account.Credentials.from_service_account_info(credentials_json)\n",
    "\n",
    "    credentials = service_account.Credentials.from_service_account_file('src/connections/protean-fabric-386717-d6a21dd66382.json')\n",
    "\n",
    "    # Connect to the BigQuery API using the credentials\n",
    "    client = bigquery.Client(credentials=credentials)\n",
    "    \n",
    "    return client"
   ]
  },
  {
   "cell_type": "code",
   "execution_count": 44,
   "id": "ad890f52",
   "metadata": {},
   "outputs": [],
   "source": [
    "def load_current_data(window_size: int = 2000) -> pd.DataFrame:\n",
    "    try:\n",
    "        client = connect_to_bigquery()\n",
    "        project_id = 'protean-fabric-386717'\n",
    "        dataset_extract_id = \"ml_datasets\"\n",
    "        table_extract_id = \"insurance_predictions_v2\"\n",
    "\n",
    "        query = f\"SELECT * FROM `{project_id}.{dataset_extract_id}.{table_extract_id}`\\\n",
    "        ORDER BY  date  DESC\\\n",
    "        LIMIT {window_size};\\\n",
    "        \"\"\"\n",
    "        current_data= client.query(query).to_dataframe() \n",
    "        return current_data\n",
    "   \n",
    "    except Exception as e:\n",
    "        logging.error(e)\n",
    "        raise e"
   ]
  },
  {
   "cell_type": "code",
   "execution_count": 45,
   "id": "f8e7434f",
   "metadata": {},
   "outputs": [],
   "source": [
    "current_data = load_current_data()\n"
   ]
  },
  {
   "cell_type": "code",
   "execution_count": 46,
   "id": "e18965f3",
   "metadata": {},
   "outputs": [],
   "source": [
    "current_data.drop(columns=['user_cod', 'date'], inplace=True)\n",
    "#current_data.rename(columns={'prediction': 'target'}, inplace=True)"
   ]
  },
  {
   "cell_type": "code",
   "execution_count": 47,
   "id": "ad14fb60",
   "metadata": {},
   "outputs": [
    {
     "data": {
      "text/html": [
       "<div>\n",
       "<style scoped>\n",
       "    .dataframe tbody tr th:only-of-type {\n",
       "        vertical-align: middle;\n",
       "    }\n",
       "\n",
       "    .dataframe tbody tr th {\n",
       "        vertical-align: top;\n",
       "    }\n",
       "\n",
       "    .dataframe thead th {\n",
       "        text-align: right;\n",
       "    }\n",
       "</style>\n",
       "<table border=\"1\" class=\"dataframe\">\n",
       "  <thead>\n",
       "    <tr style=\"text-align: right;\">\n",
       "      <th></th>\n",
       "      <th>age</th>\n",
       "      <th>sex</th>\n",
       "      <th>bmi</th>\n",
       "      <th>children</th>\n",
       "      <th>smoker</th>\n",
       "      <th>region</th>\n",
       "      <th>prediction</th>\n",
       "    </tr>\n",
       "  </thead>\n",
       "  <tbody>\n",
       "    <tr>\n",
       "      <th>0</th>\n",
       "      <td>40</td>\n",
       "      <td>female</td>\n",
       "      <td>29.29</td>\n",
       "      <td>0</td>\n",
       "      <td>no</td>\n",
       "      <td>northwest</td>\n",
       "      <td>10734.833008</td>\n",
       "    </tr>\n",
       "    <tr>\n",
       "      <th>1</th>\n",
       "      <td>26</td>\n",
       "      <td>female</td>\n",
       "      <td>32.03</td>\n",
       "      <td>1</td>\n",
       "      <td>no</td>\n",
       "      <td>northeast</td>\n",
       "      <td>6566.753906</td>\n",
       "    </tr>\n",
       "    <tr>\n",
       "      <th>2</th>\n",
       "      <td>34</td>\n",
       "      <td>female</td>\n",
       "      <td>28.59</td>\n",
       "      <td>2</td>\n",
       "      <td>yes</td>\n",
       "      <td>southeast</td>\n",
       "      <td>17528.738281</td>\n",
       "    </tr>\n",
       "    <tr>\n",
       "      <th>3</th>\n",
       "      <td>24</td>\n",
       "      <td>female</td>\n",
       "      <td>27.60</td>\n",
       "      <td>1</td>\n",
       "      <td>yes</td>\n",
       "      <td>northwest</td>\n",
       "      <td>15099.791016</td>\n",
       "    </tr>\n",
       "    <tr>\n",
       "      <th>4</th>\n",
       "      <td>47</td>\n",
       "      <td>female</td>\n",
       "      <td>33.43</td>\n",
       "      <td>0</td>\n",
       "      <td>yes</td>\n",
       "      <td>northwest</td>\n",
       "      <td>46186.519531</td>\n",
       "    </tr>\n",
       "  </tbody>\n",
       "</table>\n",
       "</div>"
      ],
      "text/plain": [
       "   age     sex    bmi  children smoker     region    prediction\n",
       "0   40  female  29.29         0     no  northwest  10734.833008\n",
       "1   26  female  32.03         1     no  northeast   6566.753906\n",
       "2   34  female  28.59         2    yes  southeast  17528.738281\n",
       "3   24  female  27.60         1    yes  northwest  15099.791016\n",
       "4   47  female  33.43         0    yes  northwest  46186.519531"
      ]
     },
     "execution_count": 47,
     "metadata": {},
     "output_type": "execute_result"
    }
   ],
   "source": [
    "current_data.head(5)"
   ]
  },
  {
   "cell_type": "markdown",
   "id": "973661e1",
   "metadata": {},
   "source": [
    "### Reference data"
   ]
  },
  {
   "cell_type": "code",
   "execution_count": 48,
   "id": "b73f17ad",
   "metadata": {},
   "outputs": [],
   "source": [
    "def load_reference_data() -> pd.DataFrame: #columns: List[Text]) -> pd.DataFrame:\n",
    "    #train_file = \"data/insurance.csv\"\n",
    "    train_file = \"insurance.csv\"\n",
    "    reference_data = pd.read_csv(train_file)\n",
    "    return reference_data"
   ]
  },
  {
   "cell_type": "code",
   "execution_count": 49,
   "id": "04a591f8",
   "metadata": {},
   "outputs": [],
   "source": [
    "reference_data = load_reference_data()"
   ]
  },
  {
   "cell_type": "code",
   "execution_count": 50,
   "id": "936a8a24",
   "metadata": {},
   "outputs": [],
   "source": [
    "reference_data.rename(columns={'charges': 'target'}, inplace=True)"
   ]
  },
  {
   "cell_type": "code",
   "execution_count": 51,
   "id": "f3776cfd",
   "metadata": {},
   "outputs": [
    {
     "data": {
      "text/html": [
       "<div>\n",
       "<style scoped>\n",
       "    .dataframe tbody tr th:only-of-type {\n",
       "        vertical-align: middle;\n",
       "    }\n",
       "\n",
       "    .dataframe tbody tr th {\n",
       "        vertical-align: top;\n",
       "    }\n",
       "\n",
       "    .dataframe thead th {\n",
       "        text-align: right;\n",
       "    }\n",
       "</style>\n",
       "<table border=\"1\" class=\"dataframe\">\n",
       "  <thead>\n",
       "    <tr style=\"text-align: right;\">\n",
       "      <th></th>\n",
       "      <th>age</th>\n",
       "      <th>sex</th>\n",
       "      <th>bmi</th>\n",
       "      <th>children</th>\n",
       "      <th>smoker</th>\n",
       "      <th>region</th>\n",
       "      <th>target</th>\n",
       "    </tr>\n",
       "  </thead>\n",
       "  <tbody>\n",
       "    <tr>\n",
       "      <th>0</th>\n",
       "      <td>19</td>\n",
       "      <td>female</td>\n",
       "      <td>27.900</td>\n",
       "      <td>0</td>\n",
       "      <td>yes</td>\n",
       "      <td>southwest</td>\n",
       "      <td>16884.92400</td>\n",
       "    </tr>\n",
       "    <tr>\n",
       "      <th>1</th>\n",
       "      <td>18</td>\n",
       "      <td>male</td>\n",
       "      <td>33.770</td>\n",
       "      <td>1</td>\n",
       "      <td>no</td>\n",
       "      <td>southeast</td>\n",
       "      <td>1725.55230</td>\n",
       "    </tr>\n",
       "    <tr>\n",
       "      <th>2</th>\n",
       "      <td>28</td>\n",
       "      <td>male</td>\n",
       "      <td>33.000</td>\n",
       "      <td>3</td>\n",
       "      <td>no</td>\n",
       "      <td>southeast</td>\n",
       "      <td>4449.46200</td>\n",
       "    </tr>\n",
       "    <tr>\n",
       "      <th>3</th>\n",
       "      <td>33</td>\n",
       "      <td>male</td>\n",
       "      <td>22.705</td>\n",
       "      <td>0</td>\n",
       "      <td>no</td>\n",
       "      <td>northwest</td>\n",
       "      <td>21984.47061</td>\n",
       "    </tr>\n",
       "    <tr>\n",
       "      <th>4</th>\n",
       "      <td>32</td>\n",
       "      <td>male</td>\n",
       "      <td>28.880</td>\n",
       "      <td>0</td>\n",
       "      <td>no</td>\n",
       "      <td>northwest</td>\n",
       "      <td>3866.85520</td>\n",
       "    </tr>\n",
       "  </tbody>\n",
       "</table>\n",
       "</div>"
      ],
      "text/plain": [
       "   age     sex     bmi  children smoker     region       target\n",
       "0   19  female  27.900         0    yes  southwest  16884.92400\n",
       "1   18    male  33.770         1     no  southeast   1725.55230\n",
       "2   28    male  33.000         3     no  southeast   4449.46200\n",
       "3   33    male  22.705         0     no  northwest  21984.47061\n",
       "4   32    male  28.880         0     no  northwest   3866.85520"
      ]
     },
     "execution_count": 51,
     "metadata": {},
     "output_type": "execute_result"
    }
   ],
   "source": [
    "reference_data.head(5)"
   ]
  },
  {
   "cell_type": "code",
   "execution_count": null,
   "id": "684a4c90",
   "metadata": {},
   "outputs": [],
   "source": []
  },
  {
   "cell_type": "markdown",
   "id": "8885b10e",
   "metadata": {},
   "source": [
    "# DEFINIR ESQUEMA DE REPORTE"
   ]
  },
  {
   "cell_type": "code",
   "execution_count": null,
   "id": "7b3a7271",
   "metadata": {},
   "outputs": [],
   "source": [
    "print(\"Prepare column_mapping object for Evidently reports\")\n",
    "    column_mapping = ColumnMapping()\n",
    "    column_mapping.target = target_col\n",
    "    column_mapping.prediction = prediction_col\n",
    "    column_mapping.numerical_features = num_features\n",
    "    column_mapping.categorical_features = cat_features"
   ]
  },
  {
   "cell_type": "code",
   "execution_count": 61,
   "id": "92d9a5eb",
   "metadata": {},
   "outputs": [],
   "source": [
    "# config to column mapping parameter for Evidently\n",
    "def get_column_mapping() -> ColumnMapping:\n",
    "    column_mapping = ColumnMapping()\n",
    "    column_mapping.target = 'target'\n",
    "    column_mapping.prediction = 'prediction'\n",
    "    column_mapping.numerical_features = ['age', 'bmi', 'children']\n",
    "    column_mapping.categorical_features = ['sex', 'smoker', 'region']\n",
    "    return column_mapping"
   ]
  },
  {
   "cell_type": "code",
   "execution_count": null,
   "id": "e65c8a5b",
   "metadata": {},
   "outputs": [],
   "source": []
  },
  {
   "cell_type": "code",
   "execution_count": 65,
   "id": "2ac5625c",
   "metadata": {},
   "outputs": [
    {
     "name": "stdout",
     "output_type": "stream",
     "text": [
      "ColumnMapping(target='target', prediction='prediction', datetime='datetime', id=None, numerical_features=['age', 'bmi', 'children'], categorical_features=['sex', 'smoker', 'region'], datetime_features=None, target_names=None, task=None, pos_label=1, text_features=None)\n"
     ]
    }
   ],
   "source": [
    "print(column_mapping)"
   ]
  },
  {
   "cell_type": "code",
   "execution_count": null,
   "id": "c0a9d5bd",
   "metadata": {},
   "outputs": [],
   "source": []
  },
  {
   "cell_type": "code",
   "execution_count": null,
   "id": "cc35f8bb",
   "metadata": {},
   "outputs": [],
   "source": []
  },
  {
   "cell_type": "code",
   "execution_count": 67,
   "id": "929259d2",
   "metadata": {},
   "outputs": [],
   "source": [
    "from evidently.report import Report\n",
    "from evidently.metric_preset import DataDriftPreset, TargetDriftPreset, DataQualityPreset"
   ]
  },
  {
   "cell_type": "code",
   "execution_count": 72,
   "id": "91b7ea46",
   "metadata": {},
   "outputs": [
    {
     "ename": "ValueError",
     "evalue": "Column (target) is partially present in data",
     "output_type": "error",
     "traceback": [
      "\u001b[1;31m---------------------------------------------------------------------------\u001b[0m",
      "\u001b[1;31mValueError\u001b[0m                                Traceback (most recent call last)",
      "\u001b[1;32m~\\AppData\\Local\\Temp\\ipykernel_164\\506770181.py\u001b[0m in \u001b[0;36m<cell line: 3>\u001b[1;34m()\u001b[0m\n\u001b[0;32m      1\u001b[0m \u001b[0mdrift_report\u001b[0m \u001b[1;33m=\u001b[0m \u001b[0mReport\u001b[0m\u001b[1;33m(\u001b[0m\u001b[0mmetrics\u001b[0m\u001b[1;33m=\u001b[0m\u001b[1;33m[\u001b[0m\u001b[0mDataDriftPreset\u001b[0m\u001b[1;33m(\u001b[0m\u001b[1;33m)\u001b[0m\u001b[1;33m,\u001b[0m \u001b[0mTargetDriftPreset\u001b[0m\u001b[1;33m(\u001b[0m\u001b[1;33m)\u001b[0m\u001b[1;33m]\u001b[0m\u001b[1;33m)\u001b[0m\u001b[1;33m\u001b[0m\u001b[1;33m\u001b[0m\u001b[0m\n\u001b[0;32m      2\u001b[0m \u001b[1;33m\u001b[0m\u001b[0m\n\u001b[1;32m----> 3\u001b[1;33m \u001b[0mdrift_report\u001b[0m\u001b[1;33m.\u001b[0m\u001b[0mrun\u001b[0m\u001b[1;33m(\u001b[0m\u001b[0mreference_data\u001b[0m\u001b[1;33m=\u001b[0m\u001b[0mreference_data\u001b[0m\u001b[1;33m,\u001b[0m \u001b[0mcurrent_data\u001b[0m\u001b[1;33m=\u001b[0m\u001b[0mcurrent_data\u001b[0m\u001b[1;33m,\u001b[0m \u001b[0mcolumn_mapping\u001b[0m\u001b[1;33m=\u001b[0m\u001b[0mcolumn_mapping\u001b[0m\u001b[1;33m)\u001b[0m\u001b[1;33m\u001b[0m\u001b[1;33m\u001b[0m\u001b[0m\n\u001b[0m",
      "\u001b[1;32m~\\anaconda3\\envs\\curso\\lib\\site-packages\\evidently\\report\\report.py\u001b[0m in \u001b[0;36mrun\u001b[1;34m(self, reference_data, current_data, column_mapping)\u001b[0m\n\u001b[0;32m     56\u001b[0m         \u001b[0mself\u001b[0m\u001b[1;33m.\u001b[0m\u001b[0m_inner_suite\u001b[0m\u001b[1;33m.\u001b[0m\u001b[0mverify\u001b[0m\u001b[1;33m(\u001b[0m\u001b[1;33m)\u001b[0m\u001b[1;33m\u001b[0m\u001b[1;33m\u001b[0m\u001b[0m\n\u001b[0;32m     57\u001b[0m \u001b[1;33m\u001b[0m\u001b[0m\n\u001b[1;32m---> 58\u001b[1;33m         \u001b[0mdata_definition\u001b[0m \u001b[1;33m=\u001b[0m \u001b[0mcreate_data_definition\u001b[0m\u001b[1;33m(\u001b[0m\u001b[0mreference_data\u001b[0m\u001b[1;33m,\u001b[0m \u001b[0mcurrent_data\u001b[0m\u001b[1;33m,\u001b[0m \u001b[0mcolumn_mapping\u001b[0m\u001b[1;33m)\u001b[0m\u001b[1;33m\u001b[0m\u001b[1;33m\u001b[0m\u001b[0m\n\u001b[0m\u001b[0;32m     59\u001b[0m         \u001b[0mdata\u001b[0m \u001b[1;33m=\u001b[0m \u001b[0mInputData\u001b[0m\u001b[1;33m(\u001b[0m\u001b[0mreference_data\u001b[0m\u001b[1;33m,\u001b[0m \u001b[0mcurrent_data\u001b[0m\u001b[1;33m,\u001b[0m \u001b[1;32mNone\u001b[0m\u001b[1;33m,\u001b[0m \u001b[1;32mNone\u001b[0m\u001b[1;33m,\u001b[0m \u001b[0mcolumn_mapping\u001b[0m\u001b[1;33m,\u001b[0m \u001b[0mdata_definition\u001b[0m\u001b[1;33m)\u001b[0m\u001b[1;33m\u001b[0m\u001b[1;33m\u001b[0m\u001b[0m\n\u001b[0;32m     60\u001b[0m \u001b[1;33m\u001b[0m\u001b[0m\n",
      "\u001b[1;32m~\\anaconda3\\envs\\curso\\lib\\site-packages\\evidently\\utils\\data_preprocessing.py\u001b[0m in \u001b[0;36mcreate_data_definition\u001b[1;34m(reference_data, current_data, mapping)\u001b[0m\n\u001b[0;32m    209\u001b[0m     \u001b[0mdata\u001b[0m \u001b[1;33m=\u001b[0m \u001b[0m_InputData\u001b[0m\u001b[1;33m(\u001b[0m\u001b[0mreference_data\u001b[0m\u001b[1;33m,\u001b[0m \u001b[0mcurrent_data\u001b[0m\u001b[1;33m)\u001b[0m\u001b[1;33m\u001b[0m\u001b[1;33m\u001b[0m\u001b[0m\n\u001b[0;32m    210\u001b[0m     \u001b[0mid_column\u001b[0m \u001b[1;33m=\u001b[0m \u001b[0m_process_column\u001b[0m\u001b[1;33m(\u001b[0m\u001b[0mmapping\u001b[0m\u001b[1;33m.\u001b[0m\u001b[0mid\u001b[0m\u001b[1;33m,\u001b[0m \u001b[0mdata\u001b[0m\u001b[1;33m)\u001b[0m\u001b[1;33m\u001b[0m\u001b[1;33m\u001b[0m\u001b[0m\n\u001b[1;32m--> 211\u001b[1;33m     \u001b[0mtarget_column\u001b[0m \u001b[1;33m=\u001b[0m \u001b[0m_process_column\u001b[0m\u001b[1;33m(\u001b[0m\u001b[0mmapping\u001b[0m\u001b[1;33m.\u001b[0m\u001b[0mtarget\u001b[0m\u001b[1;33m,\u001b[0m \u001b[0mdata\u001b[0m\u001b[1;33m,\u001b[0m \u001b[0mmapping\u001b[0m\u001b[1;33m=\u001b[0m\u001b[0mmapping\u001b[0m\u001b[1;33m)\u001b[0m\u001b[1;33m\u001b[0m\u001b[1;33m\u001b[0m\u001b[0m\n\u001b[0m\u001b[0;32m    212\u001b[0m     \u001b[0mdatetime_column\u001b[0m \u001b[1;33m=\u001b[0m \u001b[0m_process_column\u001b[0m\u001b[1;33m(\u001b[0m\u001b[0mmapping\u001b[0m\u001b[1;33m.\u001b[0m\u001b[0mdatetime\u001b[0m\u001b[1;33m,\u001b[0m \u001b[0mdata\u001b[0m\u001b[1;33m)\u001b[0m\u001b[1;33m\u001b[0m\u001b[1;33m\u001b[0m\u001b[0m\n\u001b[0;32m    213\u001b[0m \u001b[1;33m\u001b[0m\u001b[0m\n",
      "\u001b[1;32m~\\anaconda3\\envs\\curso\\lib\\site-packages\\evidently\\utils\\data_preprocessing.py\u001b[0m in \u001b[0;36m_process_column\u001b[1;34m(column_name, data, if_partially_present, predefined_type, mapping)\u001b[0m\n\u001b[0;32m    147\u001b[0m     \u001b[1;32mif\u001b[0m \u001b[0mpresence\u001b[0m \u001b[1;33m==\u001b[0m \u001b[0mColumnPresenceState\u001b[0m\u001b[1;33m.\u001b[0m\u001b[0mPartially\u001b[0m\u001b[1;33m:\u001b[0m\u001b[1;33m\u001b[0m\u001b[1;33m\u001b[0m\u001b[0m\n\u001b[0;32m    148\u001b[0m         \u001b[1;32mif\u001b[0m \u001b[0mif_partially_present\u001b[0m \u001b[1;33m==\u001b[0m \u001b[1;34m\"raise\"\u001b[0m\u001b[1;33m:\u001b[0m\u001b[1;33m\u001b[0m\u001b[1;33m\u001b[0m\u001b[0m\n\u001b[1;32m--> 149\u001b[1;33m             \u001b[1;32mraise\u001b[0m \u001b[0mValueError\u001b[0m\u001b[1;33m(\u001b[0m\u001b[1;34mf\"Column ({column_name}) is partially present in data\"\u001b[0m\u001b[1;33m)\u001b[0m\u001b[1;33m\u001b[0m\u001b[1;33m\u001b[0m\u001b[0m\n\u001b[0m\u001b[0;32m    150\u001b[0m         \u001b[1;32mif\u001b[0m \u001b[0mif_partially_present\u001b[0m \u001b[1;33m==\u001b[0m \u001b[1;34m\"skip\"\u001b[0m\u001b[1;33m:\u001b[0m\u001b[1;33m\u001b[0m\u001b[1;33m\u001b[0m\u001b[0m\n\u001b[0;32m    151\u001b[0m             \u001b[1;32mreturn\u001b[0m \u001b[1;32mNone\u001b[0m\u001b[1;33m\u001b[0m\u001b[1;33m\u001b[0m\u001b[0m\n",
      "\u001b[1;31mValueError\u001b[0m: Column (target) is partially present in data"
     ]
    }
   ],
   "source": [
    "drift_report = Report(metrics=[DataDriftPreset(), TargetDriftPreset()])\n",
    " \n",
    "drift_report.run(reference_data=reference_data, current_data=current_data, column_mapping=column_mapping)\n"
   ]
  },
  {
   "cell_type": "code",
   "execution_count": 70,
   "id": "a0a72106",
   "metadata": {},
   "outputs": [
    {
     "data": {
      "text/html": [
       "\n",
       "<link rel=\"stylesheet\" href=\"https://fonts.googleapis.com/icon?family=Material+Icons\"/>\n",
       "<style>\n",
       ".reset-this-parent {\n",
       "  all: initial;\n",
       "}\n",
       ".reset-this-parent h5 {\n",
       "  all: initial;\n",
       "  font: initial;\n",
       "}\n",
       "\n",
       "svg {\n",
       "  height: intrinsic !important;\n",
       "}\n",
       "</style>\n",
       "<script>\n",
       "    var evidently_dashboard_f924dfe4499a4b6e8e38db8d32c768ff = {\"name\": \"Report\", \"widgets\": []};\n",
       "    var additional_graphs_evidently_dashboard_f924dfe4499a4b6e8e38db8d32c768ff = {};\n",
       "</script>\n",
       "<script>\n",
       "function domReady(fn) {\n",
       "  // If we're early to the party\n",
       "  document.addEventListener(\"DOMContentLoaded\", fn);\n",
       "  // If late; I mean on time.\n",
       "  if (document.readyState === \"interactive\" || document.readyState === \"complete\" ) {\n",
       "    fn();\n",
       "  }\n",
       "}\n",
       "\n",
       "domReady(function () {\n",
       "    requirejs([\"evidently\"], function(ev) {\n",
       "        drawDashboard(evidently_dashboard_f924dfe4499a4b6e8e38db8d32c768ff,\n",
       "        new Map(Object.entries(additional_graphs_evidently_dashboard_f924dfe4499a4b6e8e38db8d32c768ff)),\n",
       "        \"root_evidently_dashboard_f924dfe4499a4b6e8e38db8d32c768ff\");\n",
       "    },\n",
       "    function(err) {\n",
       "        $(\"#root_evidently_dashboard_f924dfe4499a4b6e8e38db8d32c768ff\").innerHTML = \"Failed to load\";\n",
       "    })\n",
       "});\n",
       "</script>\n",
       "<div class=\"reset-this-parent\" id=\"root_evidently_dashboard_f924dfe4499a4b6e8e38db8d32c768ff\">Loading...</div>\n",
       "\n"
      ],
      "text/plain": [
       "<evidently.report.report.Report at 0x168e41ca430>"
      ]
     },
     "execution_count": 70,
     "metadata": {},
     "output_type": "execute_result"
    }
   ],
   "source": [
    "drift_report"
   ]
  },
  {
   "cell_type": "code",
   "execution_count": null,
   "id": "052a7505",
   "metadata": {},
   "outputs": [],
   "source": []
  },
  {
   "cell_type": "code",
   "execution_count": null,
   "id": "012f53c6",
   "metadata": {},
   "outputs": [],
   "source": []
  },
  {
   "cell_type": "markdown",
   "id": "16678d63",
   "metadata": {},
   "source": [
    "### REPORTE"
   ]
  },
  {
   "cell_type": "code",
   "execution_count": 62,
   "id": "a89d69ed",
   "metadata": {},
   "outputs": [],
   "source": [
    "def build_model_performance_report(\n",
    "        reference_data: pd.DataFrame,\n",
    "        current_data: pd.DataFrame,\n",
    "        column_mapping: ColumnMapping) -> Text:\n",
    "\n",
    "    model_performance_report = Report(metrics =[\n",
    "        RegressionQualityMetric(),\n",
    "        RegressionPredictedVsActualScatter(),\n",
    "        RegressionPredictedVsActualPlot(),\n",
    "        RegressionErrorPlot(),\n",
    "        RegressionAbsPercentageErrorPlot(),\n",
    "        RegressionErrorDistribution(),\n",
    "        RegressionErrorNormality(),\n",
    "        RegressionTopErrorMetric()\n",
    "    ])\n",
    "    model_performance_report.run(\n",
    "        reference_data = reference_data,\n",
    "        current_data = current_data,\n",
    "        column_mapping = column_mapping)\n",
    "\n",
    "    report_path = \"reports/model_performance.html\"\n",
    "    model_performance_report.save_html(report_path)\n",
    "\n",
    "    return report_path"
   ]
  },
  {
   "cell_type": "code",
   "execution_count": null,
   "id": "b0249f04",
   "metadata": {},
   "outputs": [],
   "source": []
  },
  {
   "cell_type": "code",
   "execution_count": 63,
   "id": "1ea1139f",
   "metadata": {},
   "outputs": [],
   "source": [
    "def monitor_model_performance(window_size: int = 3000) -> FileResponse:\n",
    "\n",
    "    logging.info('Read current data')\n",
    "    current_data: pd.DataFrame = load_current_data(window_size)\n",
    "    current_data.drop(columns=['user_cod', 'date'], inplace=True)\n",
    "    #current_data.rename(columns={'prediction': 'target'}, inplace=True)\n",
    "\n",
    "    logging.info('Read reference data')\n",
    "    reference_data = load_reference_data()#columns=DATA_COLUMNS['columns'])\n",
    "    reference_data.rename(columns={'charges': 'target'}, inplace=True)\n",
    "    \n",
    "    logging.info('Build report')\n",
    "    column_mapping: ColumnMapping = get_column_mapping()\n",
    "    report_path: Text = build_model_performance_report(\n",
    "        reference_data=reference_data,\n",
    "        current_data=current_data,\n",
    "        column_mapping=column_mapping)\n",
    "    \n",
    "\n",
    "    logging.info('Return report as html')\n",
    "    return FileResponse(report_path)\n"
   ]
  },
  {
   "cell_type": "code",
   "execution_count": 64,
   "id": "780f0820",
   "metadata": {},
   "outputs": [
    {
     "ename": "ValueError",
     "evalue": "Column (target) is partially present in data",
     "output_type": "error",
     "traceback": [
      "\u001b[1;31m---------------------------------------------------------------------------\u001b[0m",
      "\u001b[1;31mValueError\u001b[0m                                Traceback (most recent call last)",
      "\u001b[1;32m~\\AppData\\Local\\Temp\\ipykernel_164\\887600366.py\u001b[0m in \u001b[0;36m<cell line: 1>\u001b[1;34m()\u001b[0m\n\u001b[1;32m----> 1\u001b[1;33m \u001b[0mRUN\u001b[0m  \u001b[1;33m=\u001b[0m \u001b[0mmonitor_model_performance\u001b[0m\u001b[1;33m(\u001b[0m\u001b[1;33m)\u001b[0m\u001b[1;33m\u001b[0m\u001b[1;33m\u001b[0m\u001b[0m\n\u001b[0m",
      "\u001b[1;32m~\\AppData\\Local\\Temp\\ipykernel_164\\1137466190.py\u001b[0m in \u001b[0;36mmonitor_model_performance\u001b[1;34m(window_size)\u001b[0m\n\u001b[0;32m     12\u001b[0m     \u001b[0mlogging\u001b[0m\u001b[1;33m.\u001b[0m\u001b[0minfo\u001b[0m\u001b[1;33m(\u001b[0m\u001b[1;34m'Build report'\u001b[0m\u001b[1;33m)\u001b[0m\u001b[1;33m\u001b[0m\u001b[1;33m\u001b[0m\u001b[0m\n\u001b[0;32m     13\u001b[0m     \u001b[0mcolumn_mapping\u001b[0m\u001b[1;33m:\u001b[0m \u001b[0mColumnMapping\u001b[0m \u001b[1;33m=\u001b[0m \u001b[0mget_column_mapping\u001b[0m\u001b[1;33m(\u001b[0m\u001b[1;33m)\u001b[0m\u001b[1;33m\u001b[0m\u001b[1;33m\u001b[0m\u001b[0m\n\u001b[1;32m---> 14\u001b[1;33m     report_path: Text = build_model_performance_report(\n\u001b[0m\u001b[0;32m     15\u001b[0m         \u001b[0mreference_data\u001b[0m\u001b[1;33m=\u001b[0m\u001b[0mreference_data\u001b[0m\u001b[1;33m,\u001b[0m\u001b[1;33m\u001b[0m\u001b[1;33m\u001b[0m\u001b[0m\n\u001b[0;32m     16\u001b[0m         \u001b[0mcurrent_data\u001b[0m\u001b[1;33m=\u001b[0m\u001b[0mcurrent_data\u001b[0m\u001b[1;33m,\u001b[0m\u001b[1;33m\u001b[0m\u001b[1;33m\u001b[0m\u001b[0m\n",
      "\u001b[1;32m~\\AppData\\Local\\Temp\\ipykernel_164\\2467033119.py\u001b[0m in \u001b[0;36mbuild_model_performance_report\u001b[1;34m(reference_data, current_data, column_mapping)\u001b[0m\n\u001b[0;32m     14\u001b[0m         \u001b[0mRegressionTopErrorMetric\u001b[0m\u001b[1;33m(\u001b[0m\u001b[1;33m)\u001b[0m\u001b[1;33m\u001b[0m\u001b[1;33m\u001b[0m\u001b[0m\n\u001b[0;32m     15\u001b[0m     ])\n\u001b[1;32m---> 16\u001b[1;33m     model_performance_report.run(\n\u001b[0m\u001b[0;32m     17\u001b[0m         \u001b[0mreference_data\u001b[0m \u001b[1;33m=\u001b[0m \u001b[0mreference_data\u001b[0m\u001b[1;33m,\u001b[0m\u001b[1;33m\u001b[0m\u001b[1;33m\u001b[0m\u001b[0m\n\u001b[0;32m     18\u001b[0m         \u001b[0mcurrent_data\u001b[0m \u001b[1;33m=\u001b[0m \u001b[0mcurrent_data\u001b[0m\u001b[1;33m,\u001b[0m\u001b[1;33m\u001b[0m\u001b[1;33m\u001b[0m\u001b[0m\n",
      "\u001b[1;32m~\\anaconda3\\envs\\curso\\lib\\site-packages\\evidently\\report\\report.py\u001b[0m in \u001b[0;36mrun\u001b[1;34m(self, reference_data, current_data, column_mapping)\u001b[0m\n\u001b[0;32m     56\u001b[0m         \u001b[0mself\u001b[0m\u001b[1;33m.\u001b[0m\u001b[0m_inner_suite\u001b[0m\u001b[1;33m.\u001b[0m\u001b[0mverify\u001b[0m\u001b[1;33m(\u001b[0m\u001b[1;33m)\u001b[0m\u001b[1;33m\u001b[0m\u001b[1;33m\u001b[0m\u001b[0m\n\u001b[0;32m     57\u001b[0m \u001b[1;33m\u001b[0m\u001b[0m\n\u001b[1;32m---> 58\u001b[1;33m         \u001b[0mdata_definition\u001b[0m \u001b[1;33m=\u001b[0m \u001b[0mcreate_data_definition\u001b[0m\u001b[1;33m(\u001b[0m\u001b[0mreference_data\u001b[0m\u001b[1;33m,\u001b[0m \u001b[0mcurrent_data\u001b[0m\u001b[1;33m,\u001b[0m \u001b[0mcolumn_mapping\u001b[0m\u001b[1;33m)\u001b[0m\u001b[1;33m\u001b[0m\u001b[1;33m\u001b[0m\u001b[0m\n\u001b[0m\u001b[0;32m     59\u001b[0m         \u001b[0mdata\u001b[0m \u001b[1;33m=\u001b[0m \u001b[0mInputData\u001b[0m\u001b[1;33m(\u001b[0m\u001b[0mreference_data\u001b[0m\u001b[1;33m,\u001b[0m \u001b[0mcurrent_data\u001b[0m\u001b[1;33m,\u001b[0m \u001b[1;32mNone\u001b[0m\u001b[1;33m,\u001b[0m \u001b[1;32mNone\u001b[0m\u001b[1;33m,\u001b[0m \u001b[0mcolumn_mapping\u001b[0m\u001b[1;33m,\u001b[0m \u001b[0mdata_definition\u001b[0m\u001b[1;33m)\u001b[0m\u001b[1;33m\u001b[0m\u001b[1;33m\u001b[0m\u001b[0m\n\u001b[0;32m     60\u001b[0m \u001b[1;33m\u001b[0m\u001b[0m\n",
      "\u001b[1;32m~\\anaconda3\\envs\\curso\\lib\\site-packages\\evidently\\utils\\data_preprocessing.py\u001b[0m in \u001b[0;36mcreate_data_definition\u001b[1;34m(reference_data, current_data, mapping)\u001b[0m\n\u001b[0;32m    209\u001b[0m     \u001b[0mdata\u001b[0m \u001b[1;33m=\u001b[0m \u001b[0m_InputData\u001b[0m\u001b[1;33m(\u001b[0m\u001b[0mreference_data\u001b[0m\u001b[1;33m,\u001b[0m \u001b[0mcurrent_data\u001b[0m\u001b[1;33m)\u001b[0m\u001b[1;33m\u001b[0m\u001b[1;33m\u001b[0m\u001b[0m\n\u001b[0;32m    210\u001b[0m     \u001b[0mid_column\u001b[0m \u001b[1;33m=\u001b[0m \u001b[0m_process_column\u001b[0m\u001b[1;33m(\u001b[0m\u001b[0mmapping\u001b[0m\u001b[1;33m.\u001b[0m\u001b[0mid\u001b[0m\u001b[1;33m,\u001b[0m \u001b[0mdata\u001b[0m\u001b[1;33m)\u001b[0m\u001b[1;33m\u001b[0m\u001b[1;33m\u001b[0m\u001b[0m\n\u001b[1;32m--> 211\u001b[1;33m     \u001b[0mtarget_column\u001b[0m \u001b[1;33m=\u001b[0m \u001b[0m_process_column\u001b[0m\u001b[1;33m(\u001b[0m\u001b[0mmapping\u001b[0m\u001b[1;33m.\u001b[0m\u001b[0mtarget\u001b[0m\u001b[1;33m,\u001b[0m \u001b[0mdata\u001b[0m\u001b[1;33m,\u001b[0m \u001b[0mmapping\u001b[0m\u001b[1;33m=\u001b[0m\u001b[0mmapping\u001b[0m\u001b[1;33m)\u001b[0m\u001b[1;33m\u001b[0m\u001b[1;33m\u001b[0m\u001b[0m\n\u001b[0m\u001b[0;32m    212\u001b[0m     \u001b[0mdatetime_column\u001b[0m \u001b[1;33m=\u001b[0m \u001b[0m_process_column\u001b[0m\u001b[1;33m(\u001b[0m\u001b[0mmapping\u001b[0m\u001b[1;33m.\u001b[0m\u001b[0mdatetime\u001b[0m\u001b[1;33m,\u001b[0m \u001b[0mdata\u001b[0m\u001b[1;33m)\u001b[0m\u001b[1;33m\u001b[0m\u001b[1;33m\u001b[0m\u001b[0m\n\u001b[0;32m    213\u001b[0m \u001b[1;33m\u001b[0m\u001b[0m\n",
      "\u001b[1;32m~\\anaconda3\\envs\\curso\\lib\\site-packages\\evidently\\utils\\data_preprocessing.py\u001b[0m in \u001b[0;36m_process_column\u001b[1;34m(column_name, data, if_partially_present, predefined_type, mapping)\u001b[0m\n\u001b[0;32m    147\u001b[0m     \u001b[1;32mif\u001b[0m \u001b[0mpresence\u001b[0m \u001b[1;33m==\u001b[0m \u001b[0mColumnPresenceState\u001b[0m\u001b[1;33m.\u001b[0m\u001b[0mPartially\u001b[0m\u001b[1;33m:\u001b[0m\u001b[1;33m\u001b[0m\u001b[1;33m\u001b[0m\u001b[0m\n\u001b[0;32m    148\u001b[0m         \u001b[1;32mif\u001b[0m \u001b[0mif_partially_present\u001b[0m \u001b[1;33m==\u001b[0m \u001b[1;34m\"raise\"\u001b[0m\u001b[1;33m:\u001b[0m\u001b[1;33m\u001b[0m\u001b[1;33m\u001b[0m\u001b[0m\n\u001b[1;32m--> 149\u001b[1;33m             \u001b[1;32mraise\u001b[0m \u001b[0mValueError\u001b[0m\u001b[1;33m(\u001b[0m\u001b[1;34mf\"Column ({column_name}) is partially present in data\"\u001b[0m\u001b[1;33m)\u001b[0m\u001b[1;33m\u001b[0m\u001b[1;33m\u001b[0m\u001b[0m\n\u001b[0m\u001b[0;32m    150\u001b[0m         \u001b[1;32mif\u001b[0m \u001b[0mif_partially_present\u001b[0m \u001b[1;33m==\u001b[0m \u001b[1;34m\"skip\"\u001b[0m\u001b[1;33m:\u001b[0m\u001b[1;33m\u001b[0m\u001b[1;33m\u001b[0m\u001b[0m\n\u001b[0;32m    151\u001b[0m             \u001b[1;32mreturn\u001b[0m \u001b[1;32mNone\u001b[0m\u001b[1;33m\u001b[0m\u001b[1;33m\u001b[0m\u001b[0m\n",
      "\u001b[1;31mValueError\u001b[0m: Column (target) is partially present in data"
     ]
    }
   ],
   "source": [
    "RUN  = monitor_model_performance()"
   ]
  },
  {
   "cell_type": "code",
   "execution_count": null,
   "id": "c1f8b070",
   "metadata": {},
   "outputs": [],
   "source": []
  },
  {
   "cell_type": "code",
   "execution_count": null,
   "id": "7e68b820",
   "metadata": {},
   "outputs": [],
   "source": []
  },
  {
   "cell_type": "code",
   "execution_count": null,
   "id": "0a4acb62",
   "metadata": {},
   "outputs": [],
   "source": []
  },
  {
   "cell_type": "code",
   "execution_count": null,
   "id": "bfc15589",
   "metadata": {},
   "outputs": [],
   "source": []
  },
  {
   "cell_type": "code",
   "execution_count": 73,
   "id": "749763e4",
   "metadata": {},
   "outputs": [],
   "source": [
    "import pandas as pd\n",
    "from pathlib import Path\n",
    "import joblib\n",
    "import pandas as pd"
   ]
  },
  {
   "cell_type": "code",
   "execution_count": 74,
   "id": "cdfeda60",
   "metadata": {},
   "outputs": [],
   "source": [
    "path = \"data/raw/green_tripdata_2021-01.parquet\"\n",
    "data = pd.read_parquet(path)\n",
    "#data = data.sample(frac=0.3)\n",
    "    "
   ]
  },
  {
   "cell_type": "code",
   "execution_count": 75,
   "id": "20db600a",
   "metadata": {},
   "outputs": [],
   "source": [
    "data = data.sample(frac=0.3)"
   ]
  },
  {
   "cell_type": "code",
   "execution_count": 77,
   "id": "e11849d7",
   "metadata": {},
   "outputs": [
    {
     "data": {
      "text/plain": [
       "VendorID                          int64\n",
       "lpep_pickup_datetime     datetime64[ns]\n",
       "lpep_dropoff_datetime    datetime64[ns]\n",
       "store_and_fwd_flag               object\n",
       "RatecodeID                      float64\n",
       "PULocationID                      int64\n",
       "DOLocationID                      int64\n",
       "passenger_count                 float64\n",
       "trip_distance                   float64\n",
       "fare_amount                     float64\n",
       "extra                           float64\n",
       "mta_tax                         float64\n",
       "tip_amount                      float64\n",
       "tolls_amount                    float64\n",
       "ehail_fee                        object\n",
       "improvement_surcharge           float64\n",
       "total_amount                    float64\n",
       "payment_type                    float64\n",
       "trip_type                       float64\n",
       "congestion_surcharge            float64\n",
       "dtype: object"
      ]
     },
     "execution_count": 77,
     "metadata": {},
     "output_type": "execute_result"
    }
   ],
   "source": [
    "data.dtypes"
   ]
  },
  {
   "cell_type": "code",
   "execution_count": null,
   "id": "5cbe0b17",
   "metadata": {},
   "outputs": [],
   "source": []
  },
  {
   "cell_type": "code",
   "execution_count": null,
   "id": "958a5f5f",
   "metadata": {},
   "outputs": [],
   "source": []
  }
 ],
 "metadata": {
  "kernelspec": {
   "display_name": "Python 3 (ipykernel)",
   "language": "python",
   "name": "python3"
  },
  "language_info": {
   "codemirror_mode": {
    "name": "ipython",
    "version": 3
   },
   "file_extension": ".py",
   "mimetype": "text/x-python",
   "name": "python",
   "nbconvert_exporter": "python",
   "pygments_lexer": "ipython3",
   "version": "3.9.12"
  }
 },
 "nbformat": 4,
 "nbformat_minor": 5
}
