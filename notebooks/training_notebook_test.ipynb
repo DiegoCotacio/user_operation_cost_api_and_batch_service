{
 "cells": [
  {
   "cell_type": "code",
   "execution_count": 32,
   "id": "9a31be10",
   "metadata": {},
   "outputs": [],
   "source": [
    "import pandas as pd\n",
    "import numpy as np"
   ]
  },
  {
   "cell_type": "code",
   "execution_count": 33,
   "id": "bcabbe7b",
   "metadata": {
    "scrolled": true
   },
   "outputs": [
    {
     "data": {
      "text/html": [
       "<div>\n",
       "<style scoped>\n",
       "    .dataframe tbody tr th:only-of-type {\n",
       "        vertical-align: middle;\n",
       "    }\n",
       "\n",
       "    .dataframe tbody tr th {\n",
       "        vertical-align: top;\n",
       "    }\n",
       "\n",
       "    .dataframe thead th {\n",
       "        text-align: right;\n",
       "    }\n",
       "</style>\n",
       "<table border=\"1\" class=\"dataframe\">\n",
       "  <thead>\n",
       "    <tr style=\"text-align: right;\">\n",
       "      <th></th>\n",
       "      <th>age</th>\n",
       "      <th>sex</th>\n",
       "      <th>bmi</th>\n",
       "      <th>children</th>\n",
       "      <th>smoker</th>\n",
       "      <th>region</th>\n",
       "      <th>charges</th>\n",
       "    </tr>\n",
       "  </thead>\n",
       "  <tbody>\n",
       "    <tr>\n",
       "      <th>0</th>\n",
       "      <td>19</td>\n",
       "      <td>female</td>\n",
       "      <td>27.900</td>\n",
       "      <td>0</td>\n",
       "      <td>yes</td>\n",
       "      <td>southwest</td>\n",
       "      <td>16884.92400</td>\n",
       "    </tr>\n",
       "    <tr>\n",
       "      <th>1</th>\n",
       "      <td>18</td>\n",
       "      <td>male</td>\n",
       "      <td>33.770</td>\n",
       "      <td>1</td>\n",
       "      <td>no</td>\n",
       "      <td>southeast</td>\n",
       "      <td>1725.55230</td>\n",
       "    </tr>\n",
       "    <tr>\n",
       "      <th>2</th>\n",
       "      <td>28</td>\n",
       "      <td>male</td>\n",
       "      <td>33.000</td>\n",
       "      <td>3</td>\n",
       "      <td>no</td>\n",
       "      <td>southeast</td>\n",
       "      <td>4449.46200</td>\n",
       "    </tr>\n",
       "    <tr>\n",
       "      <th>3</th>\n",
       "      <td>33</td>\n",
       "      <td>male</td>\n",
       "      <td>22.705</td>\n",
       "      <td>0</td>\n",
       "      <td>no</td>\n",
       "      <td>northwest</td>\n",
       "      <td>21984.47061</td>\n",
       "    </tr>\n",
       "    <tr>\n",
       "      <th>4</th>\n",
       "      <td>32</td>\n",
       "      <td>male</td>\n",
       "      <td>28.880</td>\n",
       "      <td>0</td>\n",
       "      <td>no</td>\n",
       "      <td>northwest</td>\n",
       "      <td>3866.85520</td>\n",
       "    </tr>\n",
       "    <tr>\n",
       "      <th>...</th>\n",
       "      <td>...</td>\n",
       "      <td>...</td>\n",
       "      <td>...</td>\n",
       "      <td>...</td>\n",
       "      <td>...</td>\n",
       "      <td>...</td>\n",
       "      <td>...</td>\n",
       "    </tr>\n",
       "    <tr>\n",
       "      <th>1333</th>\n",
       "      <td>50</td>\n",
       "      <td>male</td>\n",
       "      <td>30.970</td>\n",
       "      <td>3</td>\n",
       "      <td>no</td>\n",
       "      <td>northwest</td>\n",
       "      <td>10600.54830</td>\n",
       "    </tr>\n",
       "    <tr>\n",
       "      <th>1334</th>\n",
       "      <td>18</td>\n",
       "      <td>female</td>\n",
       "      <td>31.920</td>\n",
       "      <td>0</td>\n",
       "      <td>no</td>\n",
       "      <td>northeast</td>\n",
       "      <td>2205.98080</td>\n",
       "    </tr>\n",
       "    <tr>\n",
       "      <th>1335</th>\n",
       "      <td>18</td>\n",
       "      <td>female</td>\n",
       "      <td>36.850</td>\n",
       "      <td>0</td>\n",
       "      <td>no</td>\n",
       "      <td>southeast</td>\n",
       "      <td>1629.83350</td>\n",
       "    </tr>\n",
       "    <tr>\n",
       "      <th>1336</th>\n",
       "      <td>21</td>\n",
       "      <td>female</td>\n",
       "      <td>25.800</td>\n",
       "      <td>0</td>\n",
       "      <td>no</td>\n",
       "      <td>southwest</td>\n",
       "      <td>2007.94500</td>\n",
       "    </tr>\n",
       "    <tr>\n",
       "      <th>1337</th>\n",
       "      <td>61</td>\n",
       "      <td>female</td>\n",
       "      <td>29.070</td>\n",
       "      <td>0</td>\n",
       "      <td>yes</td>\n",
       "      <td>northwest</td>\n",
       "      <td>29141.36030</td>\n",
       "    </tr>\n",
       "  </tbody>\n",
       "</table>\n",
       "<p>1338 rows × 7 columns</p>\n",
       "</div>"
      ],
      "text/plain": [
       "      age     sex     bmi  children smoker     region      charges\n",
       "0      19  female  27.900         0    yes  southwest  16884.92400\n",
       "1      18    male  33.770         1     no  southeast   1725.55230\n",
       "2      28    male  33.000         3     no  southeast   4449.46200\n",
       "3      33    male  22.705         0     no  northwest  21984.47061\n",
       "4      32    male  28.880         0     no  northwest   3866.85520\n",
       "...   ...     ...     ...       ...    ...        ...          ...\n",
       "1333   50    male  30.970         3     no  northwest  10600.54830\n",
       "1334   18  female  31.920         0     no  northeast   2205.98080\n",
       "1335   18  female  36.850         0     no  southeast   1629.83350\n",
       "1336   21  female  25.800         0     no  southwest   2007.94500\n",
       "1337   61  female  29.070         0    yes  northwest  29141.36030\n",
       "\n",
       "[1338 rows x 7 columns]"
      ]
     },
     "execution_count": 33,
     "metadata": {},
     "output_type": "execute_result"
    }
   ],
   "source": [
    "df = pd.read_csv('insurance.csv')\n",
    "df"
   ]
  },
  {
   "cell_type": "code",
   "execution_count": 34,
   "id": "e936bab4",
   "metadata": {},
   "outputs": [
    {
     "name": "stdout",
     "output_type": "stream",
     "text": [
      "age         0\n",
      "sex         0\n",
      "bmi         0\n",
      "children    0\n",
      "smoker      0\n",
      "region      0\n",
      "charges     0\n",
      "dtype: int64\n"
     ]
    }
   ],
   "source": [
    "print(df.isnull().sum())"
   ]
  },
  {
   "cell_type": "markdown",
   "id": "ca9022ee",
   "metadata": {},
   "source": [
    "## Prep / Feature Engineering"
   ]
  },
  {
   "cell_type": "code",
   "execution_count": null,
   "id": "4a1f1d1e",
   "metadata": {},
   "outputs": [],
   "source": []
  },
  {
   "cell_type": "code",
   "execution_count": 35,
   "id": "e13deecd",
   "metadata": {},
   "outputs": [],
   "source": [
    "## TRANSFORMADOR AUXILIAR\n",
    "import pandas as pd\n",
    "from sklearn.preprocessing import MinMaxScaler\n",
    "from sklearn.impute import SimpleImputer"
   ]
  },
  {
   "cell_type": "code",
   "execution_count": 36,
   "id": "6b79f89c",
   "metadata": {},
   "outputs": [],
   "source": [
    "# Funciones de Preprocesamiento:\n",
    "def remove_duplicates(df):\n",
    "    df.drop_duplicates(inplace=True)\n",
    "    return df\n",
    "\n",
    "def impute_missing_values(df):\n",
    "    # Variables categóricas\n",
    "    categorical_cols = df.select_dtypes(include='object').columns\n",
    "    #categorical_cols = categorical_cols.drop('churn')  # Excluir 'churn'\n",
    "    categorical_imputer = SimpleImputer(strategy='most_frequent')\n",
    "    df[categorical_cols] = categorical_imputer.fit_transform(df[categorical_cols])\n",
    "\n",
    "    # Variables numéricas\n",
    "    numeric_cols = df.select_dtypes(include=['float64', 'int64']).columns\n",
    "    numeric_imputer = SimpleImputer(strategy='mean')\n",
    "    df[numeric_cols] = numeric_imputer.fit_transform(df[numeric_cols])\n",
    "\n",
    "    return df\n",
    "\n",
    "\n",
    "def map_categorical_features(df):\n",
    "    mapping = {\n",
    "        'sex': {'female': 1, 'male':0},\n",
    "        'smoker': {'yes': 1, 'no':0},\n",
    "        'region': {'southwest': 0, 'southeast': 0.3, 'northwest':0.6, 'northeast': 1}\n",
    "    }\n",
    "    \n",
    "    df.replace(mapping, inplace=True)\n",
    "\n",
    "    return df\n",
    "\n",
    "def normalize_numeric_features(df):\n",
    "    numeric_cols = ['bmi', 'age', 'children']\n",
    "    scaler = MinMaxScaler()\n",
    "    df[numeric_cols] = scaler.fit_transform(df[numeric_cols])\n",
    "\n",
    "    return df\n"
   ]
  },
  {
   "cell_type": "code",
   "execution_count": 37,
   "id": "04130887",
   "metadata": {},
   "outputs": [],
   "source": [
    "df = impute_missing_values(df)\n",
    "df = remove_duplicates(df)\n",
    "df = normalize_numeric_features(df)\n",
    "df = map_categorical_features(df)"
   ]
  },
  {
   "cell_type": "code",
   "execution_count": 38,
   "id": "0611c222",
   "metadata": {},
   "outputs": [],
   "source": [
    "data = pd.DataFrame(df)"
   ]
  },
  {
   "cell_type": "code",
   "execution_count": 39,
   "id": "71564f8f",
   "metadata": {},
   "outputs": [
    {
     "name": "stdout",
     "output_type": "stream",
     "text": [
      "age         0\n",
      "sex         0\n",
      "bmi         0\n",
      "children    0\n",
      "smoker      0\n",
      "region      0\n",
      "charges     0\n",
      "dtype: int64\n"
     ]
    }
   ],
   "source": [
    "print(data.isnull().sum())"
   ]
  },
  {
   "cell_type": "code",
   "execution_count": 40,
   "id": "4290847d",
   "metadata": {},
   "outputs": [],
   "source": [
    "data = data.fillna(0)  # Reemplazar NaN por 0 u otro valor válido"
   ]
  },
  {
   "cell_type": "code",
   "execution_count": null,
   "id": "8232cb81",
   "metadata": {},
   "outputs": [],
   "source": []
  },
  {
   "cell_type": "code",
   "execution_count": null,
   "id": "4143601a",
   "metadata": {},
   "outputs": [],
   "source": []
  },
  {
   "cell_type": "markdown",
   "id": "55efac89",
   "metadata": {},
   "source": [
    "### Optimización de Hiperparametros con Optuna"
   ]
  },
  {
   "cell_type": "code",
   "execution_count": null,
   "id": "1252c8c1",
   "metadata": {
    "scrolled": true
   },
   "outputs": [],
   "source": [
    "%pip install optuna xgboost"
   ]
  },
  {
   "cell_type": "code",
   "execution_count": 45,
   "id": "4844c66d",
   "metadata": {},
   "outputs": [],
   "source": [
    "from sklearn.model_selection import StratifiedKFold #prb classificacion\n",
    "from sklearn.model_selection import KFold #prb regression\n",
    "from sklearn.metrics import mean_squared_error\n",
    "from xgboost import XGBRegressor\n",
    "from lightgbm import LGBMRegressor\n",
    "import lightgbm\n",
    "import optuna\n",
    "from sklearn.model_selection import train_test_split"
   ]
  },
  {
   "cell_type": "code",
   "execution_count": 14,
   "id": "d8cd7f48",
   "metadata": {},
   "outputs": [],
   "source": []
  },
  {
   "cell_type": "code",
   "execution_count": null,
   "id": "3293f28c",
   "metadata": {},
   "outputs": [],
   "source": []
  },
  {
   "cell_type": "code",
   "execution_count": 46,
   "id": "ce3f38e1",
   "metadata": {},
   "outputs": [
    {
     "name": "stderr",
     "output_type": "stream",
     "text": [
      "[I 2023-07-19 12:42:47,191] A new study created in memory with name: no-name-e5cf61f8-dbc1-412f-bf2c-1cac10d13fc1\n",
      "C:\\Users\\diego\\AppData\\Local\\Temp\\ipykernel_15776\\4057880884.py:4: FutureWarning: suggest_loguniform has been deprecated in v3.0.0. This feature will be removed in v6.0.0. See https://github.com/optuna/optuna/releases/tag/v3.0.0. Use suggest_float(..., log=True) instead.\n",
      "  'learning_rate' : trial.suggest_loguniform('learning_rate', 0.01, 3),\n",
      "[I 2023-07-19 12:42:47,580] Trial 0 finished with value: 18973092.274195425 and parameters: {'learning_rate': 0.016225891904172722, 'max_depth': 6, 'n_estimators': 400}. Best is trial 0 with value: 18973092.274195425.\n",
      "C:\\Users\\diego\\AppData\\Local\\Temp\\ipykernel_15776\\4057880884.py:4: FutureWarning: suggest_loguniform has been deprecated in v3.0.0. This feature will be removed in v6.0.0. See https://github.com/optuna/optuna/releases/tag/v3.0.0. Use suggest_float(..., log=True) instead.\n",
      "  'learning_rate' : trial.suggest_loguniform('learning_rate', 0.01, 3),\n",
      "[I 2023-07-19 12:42:47,796] Trial 1 finished with value: 23686699.375961512 and parameters: {'learning_rate': 0.133263208291248, 'max_depth': 4, 'n_estimators': 800}. Best is trial 0 with value: 18973092.274195425.\n",
      "C:\\Users\\diego\\AppData\\Local\\Temp\\ipykernel_15776\\4057880884.py:4: FutureWarning: suggest_loguniform has been deprecated in v3.0.0. This feature will be removed in v6.0.0. See https://github.com/optuna/optuna/releases/tag/v3.0.0. Use suggest_float(..., log=True) instead.\n",
      "  'learning_rate' : trial.suggest_loguniform('learning_rate', 0.01, 3),\n",
      "[I 2023-07-19 12:42:48,001] Trial 2 finished with value: 30173222.437516164 and parameters: {'learning_rate': 0.35949064975155265, 'max_depth': 8, 'n_estimators': 300}. Best is trial 0 with value: 18973092.274195425.\n",
      "C:\\Users\\diego\\AppData\\Local\\Temp\\ipykernel_15776\\4057880884.py:4: FutureWarning: suggest_loguniform has been deprecated in v3.0.0. This feature will be removed in v6.0.0. See https://github.com/optuna/optuna/releases/tag/v3.0.0. Use suggest_float(..., log=True) instead.\n",
      "  'learning_rate' : trial.suggest_loguniform('learning_rate', 0.01, 3),\n",
      "[I 2023-07-19 12:42:48,108] Trial 3 finished with value: 2.6905535422898114e+76 and parameters: {'learning_rate': 2.856181585408676, 'max_depth': 5, 'n_estimators': 500}. Best is trial 0 with value: 18973092.274195425.\n",
      "C:\\Users\\diego\\AppData\\Local\\Temp\\ipykernel_15776\\4057880884.py:4: FutureWarning: suggest_loguniform has been deprecated in v3.0.0. This feature will be removed in v6.0.0. See https://github.com/optuna/optuna/releases/tag/v3.0.0. Use suggest_float(..., log=True) instead.\n",
      "  'learning_rate' : trial.suggest_loguniform('learning_rate', 0.01, 3),\n",
      "[I 2023-07-19 12:42:48,737] Trial 4 finished with value: 47992682.48231249 and parameters: {'learning_rate': 1.5100024513319685, 'max_depth': 6, 'n_estimators': 1000}. Best is trial 0 with value: 18973092.274195425.\n",
      "C:\\Users\\diego\\AppData\\Local\\Temp\\ipykernel_15776\\4057880884.py:4: FutureWarning: suggest_loguniform has been deprecated in v3.0.0. This feature will be removed in v6.0.0. See https://github.com/optuna/optuna/releases/tag/v3.0.0. Use suggest_float(..., log=True) instead.\n",
      "  'learning_rate' : trial.suggest_loguniform('learning_rate', 0.01, 3),\n",
      "[I 2023-07-19 12:42:48,919] Trial 5 finished with value: 36394459.806319155 and parameters: {'learning_rate': 0.7508244129188056, 'max_depth': 5, 'n_estimators': 400}. Best is trial 0 with value: 18973092.274195425.\n",
      "C:\\Users\\diego\\AppData\\Local\\Temp\\ipykernel_15776\\4057880884.py:4: FutureWarning: suggest_loguniform has been deprecated in v3.0.0. This feature will be removed in v6.0.0. See https://github.com/optuna/optuna/releases/tag/v3.0.0. Use suggest_float(..., log=True) instead.\n",
      "  'learning_rate' : trial.suggest_loguniform('learning_rate', 0.01, 3),\n",
      "[I 2023-07-19 12:42:49,057] Trial 6 finished with value: 32704279.39900298 and parameters: {'learning_rate': 0.6533675748031491, 'max_depth': 5, 'n_estimators': 300}. Best is trial 0 with value: 18973092.274195425.\n",
      "C:\\Users\\diego\\AppData\\Local\\Temp\\ipykernel_15776\\4057880884.py:4: FutureWarning: suggest_loguniform has been deprecated in v3.0.0. This feature will be removed in v6.0.0. See https://github.com/optuna/optuna/releases/tag/v3.0.0. Use suggest_float(..., log=True) instead.\n",
      "  'learning_rate' : trial.suggest_loguniform('learning_rate', 0.01, 3),\n",
      "[I 2023-07-19 12:42:49,394] Trial 7 finished with value: 29492753.495182194 and parameters: {'learning_rate': 0.1922282441902081, 'max_depth': 7, 'n_estimators': 700}. Best is trial 0 with value: 18973092.274195425.\n",
      "C:\\Users\\diego\\AppData\\Local\\Temp\\ipykernel_15776\\4057880884.py:4: FutureWarning: suggest_loguniform has been deprecated in v3.0.0. This feature will be removed in v6.0.0. See https://github.com/optuna/optuna/releases/tag/v3.0.0. Use suggest_float(..., log=True) instead.\n",
      "  'learning_rate' : trial.suggest_loguniform('learning_rate', 0.01, 3),\n",
      "[I 2023-07-19 12:42:49,792] Trial 8 finished with value: 2.057994497043906e+76 and parameters: {'learning_rate': 2.229856430498604, 'max_depth': 7, 'n_estimators': 900}. Best is trial 0 with value: 18973092.274195425.\n",
      "C:\\Users\\diego\\AppData\\Local\\Temp\\ipykernel_15776\\4057880884.py:4: FutureWarning: suggest_loguniform has been deprecated in v3.0.0. This feature will be removed in v6.0.0. See https://github.com/optuna/optuna/releases/tag/v3.0.0. Use suggest_float(..., log=True) instead.\n",
      "  'learning_rate' : trial.suggest_loguniform('learning_rate', 0.01, 3),\n",
      "[I 2023-07-19 12:42:50,086] Trial 9 finished with value: 19832092.714937225 and parameters: {'learning_rate': 0.05797701519639689, 'max_depth': 3, 'n_estimators': 900}. Best is trial 0 with value: 18973092.274195425.\n",
      "C:\\Users\\diego\\AppData\\Local\\Temp\\ipykernel_15776\\4057880884.py:4: FutureWarning: suggest_loguniform has been deprecated in v3.0.0. This feature will be removed in v6.0.0. See https://github.com/optuna/optuna/releases/tag/v3.0.0. Use suggest_float(..., log=True) instead.\n",
      "  'learning_rate' : trial.suggest_loguniform('learning_rate', 0.01, 3),\n",
      "[I 2023-07-19 12:42:50,286] Trial 10 finished with value: 37219013.04494042 and parameters: {'learning_rate': 0.011482342173634983, 'max_depth': 10, 'n_estimators': 100}. Best is trial 0 with value: 18973092.274195425.\n",
      "C:\\Users\\diego\\AppData\\Local\\Temp\\ipykernel_15776\\4057880884.py:4: FutureWarning: suggest_loguniform has been deprecated in v3.0.0. This feature will be removed in v6.0.0. See https://github.com/optuna/optuna/releases/tag/v3.0.0. Use suggest_float(..., log=True) instead.\n",
      "  'learning_rate' : trial.suggest_loguniform('learning_rate', 0.01, 3),\n",
      "[I 2023-07-19 12:42:50,586] Trial 11 finished with value: 18126697.965373173 and parameters: {'learning_rate': 0.022926299035631918, 'max_depth': 3, 'n_estimators': 600}. Best is trial 11 with value: 18126697.965373173.\n",
      "C:\\Users\\diego\\AppData\\Local\\Temp\\ipykernel_15776\\4057880884.py:4: FutureWarning: suggest_loguniform has been deprecated in v3.0.0. This feature will be removed in v6.0.0. See https://github.com/optuna/optuna/releases/tag/v3.0.0. Use suggest_float(..., log=True) instead.\n",
      "  'learning_rate' : trial.suggest_loguniform('learning_rate', 0.01, 3),\n",
      "[I 2023-07-19 12:42:50,846] Trial 12 finished with value: 17739190.59993008 and parameters: {'learning_rate': 0.01058388869887117, 'max_depth': 3, 'n_estimators': 600}. Best is trial 12 with value: 17739190.59993008.\n",
      "C:\\Users\\diego\\AppData\\Local\\Temp\\ipykernel_15776\\4057880884.py:4: FutureWarning: suggest_loguniform has been deprecated in v3.0.0. This feature will be removed in v6.0.0. See https://github.com/optuna/optuna/releases/tag/v3.0.0. Use suggest_float(..., log=True) instead.\n",
      "  'learning_rate' : trial.suggest_loguniform('learning_rate', 0.01, 3),\n",
      "[I 2023-07-19 12:42:51,170] Trial 13 finished with value: 18158187.52055654 and parameters: {'learning_rate': 0.026061405462817797, 'max_depth': 3, 'n_estimators': 600}. Best is trial 12 with value: 17739190.59993008.\n",
      "C:\\Users\\diego\\AppData\\Local\\Temp\\ipykernel_15776\\4057880884.py:4: FutureWarning: suggest_loguniform has been deprecated in v3.0.0. This feature will be removed in v6.0.0. See https://github.com/optuna/optuna/releases/tag/v3.0.0. Use suggest_float(..., log=True) instead.\n",
      "  'learning_rate' : trial.suggest_loguniform('learning_rate', 0.01, 3),\n"
     ]
    },
    {
     "name": "stderr",
     "output_type": "stream",
     "text": [
      "[I 2023-07-19 12:42:51,563] Trial 14 finished with value: 18598151.602337696 and parameters: {'learning_rate': 0.03378231654202372, 'max_depth': 3, 'n_estimators': 600}. Best is trial 12 with value: 17739190.59993008.\n",
      "C:\\Users\\diego\\AppData\\Local\\Temp\\ipykernel_15776\\4057880884.py:4: FutureWarning: suggest_loguniform has been deprecated in v3.0.0. This feature will be removed in v6.0.0. See https://github.com/optuna/optuna/releases/tag/v3.0.0. Use suggest_float(..., log=True) instead.\n",
      "  'learning_rate' : trial.suggest_loguniform('learning_rate', 0.01, 3),\n",
      "[I 2023-07-19 12:42:52,002] Trial 15 finished with value: 18402106.382307265 and parameters: {'learning_rate': 0.01067595618097364, 'max_depth': 4, 'n_estimators': 700}. Best is trial 12 with value: 17739190.59993008.\n",
      "C:\\Users\\diego\\AppData\\Local\\Temp\\ipykernel_15776\\4057880884.py:4: FutureWarning: suggest_loguniform has been deprecated in v3.0.0. This feature will be removed in v6.0.0. See https://github.com/optuna/optuna/releases/tag/v3.0.0. Use suggest_float(..., log=True) instead.\n",
      "  'learning_rate' : trial.suggest_loguniform('learning_rate', 0.01, 3),\n",
      "[I 2023-07-19 12:42:52,494] Trial 16 finished with value: 22008760.322187264 and parameters: {'learning_rate': 0.05186524617285732, 'max_depth': 9, 'n_estimators': 500}. Best is trial 12 with value: 17739190.59993008.\n",
      "C:\\Users\\diego\\AppData\\Local\\Temp\\ipykernel_15776\\4057880884.py:4: FutureWarning: suggest_loguniform has been deprecated in v3.0.0. This feature will be removed in v6.0.0. See https://github.com/optuna/optuna/releases/tag/v3.0.0. Use suggest_float(..., log=True) instead.\n",
      "  'learning_rate' : trial.suggest_loguniform('learning_rate', 0.01, 3),\n",
      "[I 2023-07-19 12:42:52,845] Trial 17 finished with value: 19147433.889891505 and parameters: {'learning_rate': 0.020617648633348837, 'max_depth': 4, 'n_estimators': 700}. Best is trial 12 with value: 17739190.59993008.\n",
      "C:\\Users\\diego\\AppData\\Local\\Temp\\ipykernel_15776\\4057880884.py:4: FutureWarning: suggest_loguniform has been deprecated in v3.0.0. This feature will be removed in v6.0.0. See https://github.com/optuna/optuna/releases/tag/v3.0.0. Use suggest_float(..., log=True) instead.\n",
      "  'learning_rate' : trial.suggest_loguniform('learning_rate', 0.01, 3),\n",
      "[I 2023-07-19 12:42:52,908] Trial 18 finished with value: 18105723.871874213 and parameters: {'learning_rate': 0.036345686444947976, 'max_depth': 3, 'n_estimators': 100}. Best is trial 12 with value: 17739190.59993008.\n",
      "C:\\Users\\diego\\AppData\\Local\\Temp\\ipykernel_15776\\4057880884.py:4: FutureWarning: suggest_loguniform has been deprecated in v3.0.0. This feature will be removed in v6.0.0. See https://github.com/optuna/optuna/releases/tag/v3.0.0. Use suggest_float(..., log=True) instead.\n",
      "  'learning_rate' : trial.suggest_loguniform('learning_rate', 0.01, 3),\n",
      "[I 2023-07-19 12:42:52,981] Trial 19 finished with value: 42364640.31343892 and parameters: {'learning_rate': 0.010075027208739687, 'max_depth': 4, 'n_estimators': 100}. Best is trial 12 with value: 17739190.59993008.\n",
      "C:\\Users\\diego\\AppData\\Local\\Temp\\ipykernel_15776\\4057880884.py:4: FutureWarning: suggest_loguniform has been deprecated in v3.0.0. This feature will be removed in v6.0.0. See https://github.com/optuna/optuna/releases/tag/v3.0.0. Use suggest_float(..., log=True) instead.\n",
      "  'learning_rate' : trial.suggest_loguniform('learning_rate', 0.01, 3),\n",
      "[I 2023-07-19 12:42:53,098] Trial 20 finished with value: 18878756.41009899 and parameters: {'learning_rate': 0.039801753919876885, 'max_depth': 5, 'n_estimators': 200}. Best is trial 12 with value: 17739190.59993008.\n",
      "C:\\Users\\diego\\AppData\\Local\\Temp\\ipykernel_15776\\4057880884.py:4: FutureWarning: suggest_loguniform has been deprecated in v3.0.0. This feature will be removed in v6.0.0. See https://github.com/optuna/optuna/releases/tag/v3.0.0. Use suggest_float(..., log=True) instead.\n",
      "  'learning_rate' : trial.suggest_loguniform('learning_rate', 0.01, 3),\n",
      "[I 2023-07-19 12:42:53,212] Trial 21 finished with value: 17782140.90679902 and parameters: {'learning_rate': 0.019522834877344474, 'max_depth': 3, 'n_estimators': 400}. Best is trial 12 with value: 17739190.59993008.\n",
      "C:\\Users\\diego\\AppData\\Local\\Temp\\ipykernel_15776\\4057880884.py:4: FutureWarning: suggest_loguniform has been deprecated in v3.0.0. This feature will be removed in v6.0.0. See https://github.com/optuna/optuna/releases/tag/v3.0.0. Use suggest_float(..., log=True) instead.\n",
      "  'learning_rate' : trial.suggest_loguniform('learning_rate', 0.01, 3),\n",
      "[I 2023-07-19 12:42:53,295] Trial 22 finished with value: 18337031.668054584 and parameters: {'learning_rate': 0.016751962658322673, 'max_depth': 3, 'n_estimators': 200}. Best is trial 12 with value: 17739190.59993008.\n",
      "C:\\Users\\diego\\AppData\\Local\\Temp\\ipykernel_15776\\4057880884.py:4: FutureWarning: suggest_loguniform has been deprecated in v3.0.0. This feature will be removed in v6.0.0. See https://github.com/optuna/optuna/releases/tag/v3.0.0. Use suggest_float(..., log=True) instead.\n",
      "  'learning_rate' : trial.suggest_loguniform('learning_rate', 0.01, 3),\n",
      "[I 2023-07-19 12:42:53,451] Trial 23 finished with value: 19780737.22249328 and parameters: {'learning_rate': 0.06665185025708235, 'max_depth': 4, 'n_estimators': 400}. Best is trial 12 with value: 17739190.59993008.\n",
      "C:\\Users\\diego\\AppData\\Local\\Temp\\ipykernel_15776\\4057880884.py:4: FutureWarning: suggest_loguniform has been deprecated in v3.0.0. This feature will be removed in v6.0.0. See https://github.com/optuna/optuna/releases/tag/v3.0.0. Use suggest_float(..., log=True) instead.\n",
      "  'learning_rate' : trial.suggest_loguniform('learning_rate', 0.01, 3),\n",
      "[I 2023-07-19 12:42:53,537] Trial 24 finished with value: 17743513.24361982 and parameters: {'learning_rate': 0.030792332717211015, 'max_depth': 3, 'n_estimators': 200}. Best is trial 12 with value: 17739190.59993008.\n",
      "C:\\Users\\diego\\AppData\\Local\\Temp\\ipykernel_15776\\4057880884.py:4: FutureWarning: suggest_loguniform has been deprecated in v3.0.0. This feature will be removed in v6.0.0. See https://github.com/optuna/optuna/releases/tag/v3.0.0. Use suggest_float(..., log=True) instead.\n",
      "  'learning_rate' : trial.suggest_loguniform('learning_rate', 0.01, 3),\n",
      "[I 2023-07-19 12:42:53,662] Trial 25 finished with value: 18035392.631948035 and parameters: {'learning_rate': 0.01630102952169129, 'max_depth': 4, 'n_estimators': 300}. Best is trial 12 with value: 17739190.59993008.\n",
      "C:\\Users\\diego\\AppData\\Local\\Temp\\ipykernel_15776\\4057880884.py:4: FutureWarning: suggest_loguniform has been deprecated in v3.0.0. This feature will be removed in v6.0.0. See https://github.com/optuna/optuna/releases/tag/v3.0.0. Use suggest_float(..., log=True) instead.\n",
      "  'learning_rate' : trial.suggest_loguniform('learning_rate', 0.01, 3),\n",
      "[I 2023-07-19 12:42:53,804] Trial 26 finished with value: 19567379.57954031 and parameters: {'learning_rate': 0.08259505163208009, 'max_depth': 3, 'n_estimators': 500}. Best is trial 12 with value: 17739190.59993008.\n",
      "C:\\Users\\diego\\AppData\\Local\\Temp\\ipykernel_15776\\4057880884.py:4: FutureWarning: suggest_loguniform has been deprecated in v3.0.0. This feature will be removed in v6.0.0. See https://github.com/optuna/optuna/releases/tag/v3.0.0. Use suggest_float(..., log=True) instead.\n",
      "  'learning_rate' : trial.suggest_loguniform('learning_rate', 0.01, 3),\n",
      "[I 2023-07-19 12:42:53,945] Trial 27 finished with value: 18957990.45617539 and parameters: {'learning_rate': 0.02609566769779709, 'max_depth': 6, 'n_estimators': 200}. Best is trial 12 with value: 17739190.59993008.\n",
      "C:\\Users\\diego\\AppData\\Local\\Temp\\ipykernel_15776\\4057880884.py:4: FutureWarning: suggest_loguniform has been deprecated in v3.0.0. This feature will be removed in v6.0.0. See https://github.com/optuna/optuna/releases/tag/v3.0.0. Use suggest_float(..., log=True) instead.\n",
      "  'learning_rate' : trial.suggest_loguniform('learning_rate', 0.01, 3),\n",
      "[I 2023-07-19 12:42:54,145] Trial 28 finished with value: 18492781.18882877 and parameters: {'learning_rate': 0.013717573396977658, 'max_depth': 5, 'n_estimators': 400}. Best is trial 12 with value: 17739190.59993008.\n",
      "C:\\Users\\diego\\AppData\\Local\\Temp\\ipykernel_15776\\4057880884.py:4: FutureWarning: suggest_loguniform has been deprecated in v3.0.0. This feature will be removed in v6.0.0. See https://github.com/optuna/optuna/releases/tag/v3.0.0. Use suggest_float(..., log=True) instead.\n",
      "  'learning_rate' : trial.suggest_loguniform('learning_rate', 0.01, 3),\n",
      "[I 2023-07-19 12:42:54,295] Trial 29 finished with value: 19400945.595653187 and parameters: {'learning_rate': 0.015387793996987857, 'max_depth': 6, 'n_estimators': 200}. Best is trial 12 with value: 17739190.59993008.\n"
     ]
    },
    {
     "name": "stderr",
     "output_type": "stream",
     "text": [
      "C:\\Users\\diego\\AppData\\Local\\Temp\\ipykernel_15776\\4057880884.py:4: FutureWarning: suggest_loguniform has been deprecated in v3.0.0. This feature will be removed in v6.0.0. See https://github.com/optuna/optuna/releases/tag/v3.0.0. Use suggest_float(..., log=True) instead.\n",
      "  'learning_rate' : trial.suggest_loguniform('learning_rate', 0.01, 3),\n",
      "[I 2023-07-19 12:42:54,427] Trial 30 finished with value: 18179935.30083134 and parameters: {'learning_rate': 0.019948367375249937, 'max_depth': 4, 'n_estimators': 300}. Best is trial 12 with value: 17739190.59993008.\n",
      "C:\\Users\\diego\\AppData\\Local\\Temp\\ipykernel_15776\\4057880884.py:4: FutureWarning: suggest_loguniform has been deprecated in v3.0.0. This feature will be removed in v6.0.0. See https://github.com/optuna/optuna/releases/tag/v3.0.0. Use suggest_float(..., log=True) instead.\n",
      "  'learning_rate' : trial.suggest_loguniform('learning_rate', 0.01, 3),\n",
      "[I 2023-07-19 12:42:54,561] Trial 31 finished with value: 17991108.107074037 and parameters: {'learning_rate': 0.016275507129028168, 'max_depth': 4, 'n_estimators': 300}. Best is trial 12 with value: 17739190.59993008.\n",
      "C:\\Users\\diego\\AppData\\Local\\Temp\\ipykernel_15776\\4057880884.py:4: FutureWarning: suggest_loguniform has been deprecated in v3.0.0. This feature will be removed in v6.0.0. See https://github.com/optuna/optuna/releases/tag/v3.0.0. Use suggest_float(..., log=True) instead.\n",
      "  'learning_rate' : trial.suggest_loguniform('learning_rate', 0.01, 3),\n",
      "[I 2023-07-19 12:42:54,691] Trial 32 finished with value: 17968931.545351356 and parameters: {'learning_rate': 0.028845187080202932, 'max_depth': 3, 'n_estimators': 400}. Best is trial 12 with value: 17739190.59993008.\n",
      "C:\\Users\\diego\\AppData\\Local\\Temp\\ipykernel_15776\\4057880884.py:4: FutureWarning: suggest_loguniform has been deprecated in v3.0.0. This feature will be removed in v6.0.0. See https://github.com/optuna/optuna/releases/tag/v3.0.0. Use suggest_float(..., log=True) instead.\n",
      "  'learning_rate' : trial.suggest_loguniform('learning_rate', 0.01, 3),\n",
      "[I 2023-07-19 12:42:54,909] Trial 33 finished with value: 18216545.003614392 and parameters: {'learning_rate': 0.02904769963387415, 'max_depth': 3, 'n_estimators': 500}. Best is trial 12 with value: 17739190.59993008.\n",
      "C:\\Users\\diego\\AppData\\Local\\Temp\\ipykernel_15776\\4057880884.py:4: FutureWarning: suggest_loguniform has been deprecated in v3.0.0. This feature will be removed in v6.0.0. See https://github.com/optuna/optuna/releases/tag/v3.0.0. Use suggest_float(..., log=True) instead.\n",
      "  'learning_rate' : trial.suggest_loguniform('learning_rate', 0.01, 3),\n",
      "[I 2023-07-19 12:42:55,187] Trial 34 finished with value: 18134868.643465716 and parameters: {'learning_rate': 0.03819495889608207, 'max_depth': 3, 'n_estimators': 400}. Best is trial 12 with value: 17739190.59993008.\n",
      "C:\\Users\\diego\\AppData\\Local\\Temp\\ipykernel_15776\\4057880884.py:4: FutureWarning: suggest_loguniform has been deprecated in v3.0.0. This feature will be removed in v6.0.0. See https://github.com/optuna/optuna/releases/tag/v3.0.0. Use suggest_float(..., log=True) instead.\n",
      "  'learning_rate' : trial.suggest_loguniform('learning_rate', 0.01, 3),\n",
      "[I 2023-07-19 12:42:55,604] Trial 35 finished with value: 20272753.99846929 and parameters: {'learning_rate': 0.08827948959012309, 'max_depth': 4, 'n_estimators': 500}. Best is trial 12 with value: 17739190.59993008.\n",
      "C:\\Users\\diego\\AppData\\Local\\Temp\\ipykernel_15776\\4057880884.py:4: FutureWarning: suggest_loguniform has been deprecated in v3.0.0. This feature will be removed in v6.0.0. See https://github.com/optuna/optuna/releases/tag/v3.0.0. Use suggest_float(..., log=True) instead.\n",
      "  'learning_rate' : trial.suggest_loguniform('learning_rate', 0.01, 3),\n",
      "[I 2023-07-19 12:42:56,359] Trial 36 finished with value: 19799636.68223518 and parameters: {'learning_rate': 0.012992914905379049, 'max_depth': 8, 'n_estimators': 600}. Best is trial 12 with value: 17739190.59993008.\n",
      "C:\\Users\\diego\\AppData\\Local\\Temp\\ipykernel_15776\\4057880884.py:4: FutureWarning: suggest_loguniform has been deprecated in v3.0.0. This feature will be removed in v6.0.0. See https://github.com/optuna/optuna/releases/tag/v3.0.0. Use suggest_float(..., log=True) instead.\n",
      "  'learning_rate' : trial.suggest_loguniform('learning_rate', 0.01, 3),\n",
      "[I 2023-07-19 12:42:56,676] Trial 37 finished with value: 18324428.018369127 and parameters: {'learning_rate': 0.020576473435887144, 'max_depth': 3, 'n_estimators': 800}. Best is trial 12 with value: 17739190.59993008.\n",
      "C:\\Users\\diego\\AppData\\Local\\Temp\\ipykernel_15776\\4057880884.py:4: FutureWarning: suggest_loguniform has been deprecated in v3.0.0. This feature will be removed in v6.0.0. See https://github.com/optuna/optuna/releases/tag/v3.0.0. Use suggest_float(..., log=True) instead.\n",
      "  'learning_rate' : trial.suggest_loguniform('learning_rate', 0.01, 3),\n",
      "[I 2023-07-19 12:42:56,977] Trial 38 finished with value: 19669702.905340385 and parameters: {'learning_rate': 0.043681442448102036, 'max_depth': 5, 'n_estimators': 400}. Best is trial 12 with value: 17739190.59993008.\n",
      "C:\\Users\\diego\\AppData\\Local\\Temp\\ipykernel_15776\\4057880884.py:4: FutureWarning: suggest_loguniform has been deprecated in v3.0.0. This feature will be removed in v6.0.0. See https://github.com/optuna/optuna/releases/tag/v3.0.0. Use suggest_float(..., log=True) instead.\n",
      "  'learning_rate' : trial.suggest_loguniform('learning_rate', 0.01, 3),\n",
      "[I 2023-07-19 12:42:57,253] Trial 39 finished with value: 18743779.132600877 and parameters: {'learning_rate': 0.0274615275506994, 'max_depth': 4, 'n_estimators': 400}. Best is trial 12 with value: 17739190.59993008.\n",
      "C:\\Users\\diego\\AppData\\Local\\Temp\\ipykernel_15776\\4057880884.py:4: FutureWarning: suggest_loguniform has been deprecated in v3.0.0. This feature will be removed in v6.0.0. See https://github.com/optuna/optuna/releases/tag/v3.0.0. Use suggest_float(..., log=True) instead.\n",
      "  'learning_rate' : trial.suggest_loguniform('learning_rate', 0.01, 3),\n",
      "[I 2023-07-19 12:42:57,458] Trial 40 finished with value: 21765327.62287801 and parameters: {'learning_rate': 0.14151836361763526, 'max_depth': 5, 'n_estimators': 300}. Best is trial 12 with value: 17739190.59993008.\n",
      "C:\\Users\\diego\\AppData\\Local\\Temp\\ipykernel_15776\\4057880884.py:4: FutureWarning: suggest_loguniform has been deprecated in v3.0.0. This feature will be removed in v6.0.0. See https://github.com/optuna/optuna/releases/tag/v3.0.0. Use suggest_float(..., log=True) instead.\n",
      "  'learning_rate' : trial.suggest_loguniform('learning_rate', 0.01, 3),\n",
      "[I 2023-07-19 12:42:57,600] Trial 41 finished with value: 17734530.148934007 and parameters: {'learning_rate': 0.016220367524632386, 'max_depth': 3, 'n_estimators': 300}. Best is trial 41 with value: 17734530.148934007.\n",
      "C:\\Users\\diego\\AppData\\Local\\Temp\\ipykernel_15776\\4057880884.py:4: FutureWarning: suggest_loguniform has been deprecated in v3.0.0. This feature will be removed in v6.0.0. See https://github.com/optuna/optuna/releases/tag/v3.0.0. Use suggest_float(..., log=True) instead.\n",
      "  'learning_rate' : trial.suggest_loguniform('learning_rate', 0.01, 3),\n",
      "[I 2023-07-19 12:42:57,753] Trial 42 finished with value: 22639968.33734842 and parameters: {'learning_rate': 0.01001840901149182, 'max_depth': 3, 'n_estimators': 200}. Best is trial 41 with value: 17734530.148934007.\n",
      "C:\\Users\\diego\\AppData\\Local\\Temp\\ipykernel_15776\\4057880884.py:4: FutureWarning: suggest_loguniform has been deprecated in v3.0.0. This feature will be removed in v6.0.0. See https://github.com/optuna/optuna/releases/tag/v3.0.0. Use suggest_float(..., log=True) instead.\n",
      "  'learning_rate' : trial.suggest_loguniform('learning_rate', 0.01, 3),\n",
      "[I 2023-07-19 12:42:57,881] Trial 43 finished with value: 17912915.73320856 and parameters: {'learning_rate': 0.013508962796756233, 'max_depth': 3, 'n_estimators': 300}. Best is trial 41 with value: 17734530.148934007.\n",
      "C:\\Users\\diego\\AppData\\Local\\Temp\\ipykernel_15776\\4057880884.py:4: FutureWarning: suggest_loguniform has been deprecated in v3.0.0. This feature will be removed in v6.0.0. See https://github.com/optuna/optuna/releases/tag/v3.0.0. Use suggest_float(..., log=True) instead.\n",
      "  'learning_rate' : trial.suggest_loguniform('learning_rate', 0.01, 3),\n"
     ]
    },
    {
     "name": "stderr",
     "output_type": "stream",
     "text": [
      "[I 2023-07-19 12:42:57,988] Trial 44 finished with value: 17930077.60995489 and parameters: {'learning_rate': 0.013402140313532013, 'max_depth': 3, 'n_estimators': 300}. Best is trial 41 with value: 17734530.148934007.\n",
      "C:\\Users\\diego\\AppData\\Local\\Temp\\ipykernel_15776\\4057880884.py:4: FutureWarning: suggest_loguniform has been deprecated in v3.0.0. This feature will be removed in v6.0.0. See https://github.com/optuna/optuna/releases/tag/v3.0.0. Use suggest_float(..., log=True) instead.\n",
      "  'learning_rate' : trial.suggest_loguniform('learning_rate', 0.01, 3),\n",
      "[I 2023-07-19 12:42:58,126] Trial 45 finished with value: 18004716.968947776 and parameters: {'learning_rate': 0.013406825321474886, 'max_depth': 4, 'n_estimators': 300}. Best is trial 41 with value: 17734530.148934007.\n",
      "C:\\Users\\diego\\AppData\\Local\\Temp\\ipykernel_15776\\4057880884.py:4: FutureWarning: suggest_loguniform has been deprecated in v3.0.0. This feature will be removed in v6.0.0. See https://github.com/optuna/optuna/releases/tag/v3.0.0. Use suggest_float(..., log=True) instead.\n",
      "  'learning_rate' : trial.suggest_loguniform('learning_rate', 0.01, 3),\n",
      "[I 2023-07-19 12:42:58,191] Trial 46 finished with value: 23293324.55491856 and parameters: {'learning_rate': 0.019160765578095297, 'max_depth': 3, 'n_estimators': 100}. Best is trial 41 with value: 17734530.148934007.\n",
      "C:\\Users\\diego\\AppData\\Local\\Temp\\ipykernel_15776\\4057880884.py:4: FutureWarning: suggest_loguniform has been deprecated in v3.0.0. This feature will be removed in v6.0.0. See https://github.com/optuna/optuna/releases/tag/v3.0.0. Use suggest_float(..., log=True) instead.\n",
      "  'learning_rate' : trial.suggest_loguniform('learning_rate', 0.01, 3),\n",
      "[I 2023-07-19 12:42:58,274] Trial 47 finished with value: 17782890.00188679 and parameters: {'learning_rate': 0.022447279832738674, 'max_depth': 3, 'n_estimators': 200}. Best is trial 41 with value: 17734530.148934007.\n",
      "C:\\Users\\diego\\AppData\\Local\\Temp\\ipykernel_15776\\4057880884.py:4: FutureWarning: suggest_loguniform has been deprecated in v3.0.0. This feature will be removed in v6.0.0. See https://github.com/optuna/optuna/releases/tag/v3.0.0. Use suggest_float(..., log=True) instead.\n",
      "  'learning_rate' : trial.suggest_loguniform('learning_rate', 0.01, 3),\n",
      "[I 2023-07-19 12:42:58,452] Trial 48 finished with value: 19265906.28676668 and parameters: {'learning_rate': 0.021387992867667117, 'max_depth': 8, 'n_estimators': 200}. Best is trial 41 with value: 17734530.148934007.\n",
      "C:\\Users\\diego\\AppData\\Local\\Temp\\ipykernel_15776\\4057880884.py:4: FutureWarning: suggest_loguniform has been deprecated in v3.0.0. This feature will be removed in v6.0.0. See https://github.com/optuna/optuna/releases/tag/v3.0.0. Use suggest_float(..., log=True) instead.\n",
      "  'learning_rate' : trial.suggest_loguniform('learning_rate', 0.01, 3),\n",
      "[I 2023-07-19 12:42:58,632] Trial 49 finished with value: 18816228.385198038 and parameters: {'learning_rate': 0.023128599606048038, 'max_depth': 7, 'n_estimators': 200}. Best is trial 41 with value: 17734530.148934007.\n",
      "C:\\Users\\diego\\AppData\\Local\\Temp\\ipykernel_15776\\4057880884.py:4: FutureWarning: suggest_loguniform has been deprecated in v3.0.0. This feature will be removed in v6.0.0. See https://github.com/optuna/optuna/releases/tag/v3.0.0. Use suggest_float(..., log=True) instead.\n",
      "  'learning_rate' : trial.suggest_loguniform('learning_rate', 0.01, 3),\n",
      "[I 2023-07-19 12:42:58,750] Trial 50 finished with value: 19360730.234518766 and parameters: {'learning_rate': 0.033883630018375695, 'max_depth': 10, 'n_estimators': 100}. Best is trial 41 with value: 17734530.148934007.\n",
      "C:\\Users\\diego\\AppData\\Local\\Temp\\ipykernel_15776\\4057880884.py:4: FutureWarning: suggest_loguniform has been deprecated in v3.0.0. This feature will be removed in v6.0.0. See https://github.com/optuna/optuna/releases/tag/v3.0.0. Use suggest_float(..., log=True) instead.\n",
      "  'learning_rate' : trial.suggest_loguniform('learning_rate', 0.01, 3),\n",
      "[I 2023-07-19 12:42:58,859] Trial 51 finished with value: 18149263.832647268 and parameters: {'learning_rate': 0.012105919312640458, 'max_depth': 3, 'n_estimators': 300}. Best is trial 41 with value: 17734530.148934007.\n",
      "C:\\Users\\diego\\AppData\\Local\\Temp\\ipykernel_15776\\4057880884.py:4: FutureWarning: suggest_loguniform has been deprecated in v3.0.0. This feature will be removed in v6.0.0. See https://github.com/optuna/optuna/releases/tag/v3.0.0. Use suggest_float(..., log=True) instead.\n",
      "  'learning_rate' : trial.suggest_loguniform('learning_rate', 0.01, 3),\n",
      "[I 2023-07-19 12:42:58,945] Trial 52 finished with value: 20369872.271121025 and parameters: {'learning_rate': 0.011917982419000765, 'max_depth': 3, 'n_estimators': 200}. Best is trial 41 with value: 17734530.148934007.\n",
      "C:\\Users\\diego\\AppData\\Local\\Temp\\ipykernel_15776\\4057880884.py:4: FutureWarning: suggest_loguniform has been deprecated in v3.0.0. This feature will be removed in v6.0.0. See https://github.com/optuna/optuna/releases/tag/v3.0.0. Use suggest_float(..., log=True) instead.\n",
      "  'learning_rate' : trial.suggest_loguniform('learning_rate', 0.01, 3),\n",
      "[I 2023-07-19 12:42:59,065] Trial 53 finished with value: 17684256.864174906 and parameters: {'learning_rate': 0.01737353195796662, 'max_depth': 3, 'n_estimators': 300}. Best is trial 53 with value: 17684256.864174906.\n",
      "C:\\Users\\diego\\AppData\\Local\\Temp\\ipykernel_15776\\4057880884.py:4: FutureWarning: suggest_loguniform has been deprecated in v3.0.0. This feature will be removed in v6.0.0. See https://github.com/optuna/optuna/releases/tag/v3.0.0. Use suggest_float(..., log=True) instead.\n",
      "  'learning_rate' : trial.suggest_loguniform('learning_rate', 0.01, 3),\n",
      "[I 2023-07-19 12:42:59,356] Trial 54 finished with value: 18792080.08870857 and parameters: {'learning_rate': 0.01705374897553354, 'max_depth': 4, 'n_estimators': 700}. Best is trial 53 with value: 17684256.864174906.\n",
      "C:\\Users\\diego\\AppData\\Local\\Temp\\ipykernel_15776\\4057880884.py:4: FutureWarning: suggest_loguniform has been deprecated in v3.0.0. This feature will be removed in v6.0.0. See https://github.com/optuna/optuna/releases/tag/v3.0.0. Use suggest_float(..., log=True) instead.\n",
      "  'learning_rate' : trial.suggest_loguniform('learning_rate', 0.01, 3),\n",
      "[I 2023-07-19 12:42:59,634] Trial 55 finished with value: 18958008.672758464 and parameters: {'learning_rate': 0.025034412834450667, 'max_depth': 4, 'n_estimators': 600}. Best is trial 53 with value: 17684256.864174906.\n",
      "C:\\Users\\diego\\AppData\\Local\\Temp\\ipykernel_15776\\4057880884.py:4: FutureWarning: suggest_loguniform has been deprecated in v3.0.0. This feature will be removed in v6.0.0. See https://github.com/optuna/optuna/releases/tag/v3.0.0. Use suggest_float(..., log=True) instead.\n",
      "  'learning_rate' : trial.suggest_loguniform('learning_rate', 0.01, 3),\n",
      "[I 2023-07-19 12:42:59,826] Trial 56 finished with value: 17799056.24903837 and parameters: {'learning_rate': 0.017761494356842912, 'max_depth': 3, 'n_estimators': 500}. Best is trial 53 with value: 17684256.864174906.\n",
      "C:\\Users\\diego\\AppData\\Local\\Temp\\ipykernel_15776\\4057880884.py:4: FutureWarning: suggest_loguniform has been deprecated in v3.0.0. This feature will be removed in v6.0.0. See https://github.com/optuna/optuna/releases/tag/v3.0.0. Use suggest_float(..., log=True) instead.\n",
      "  'learning_rate' : trial.suggest_loguniform('learning_rate', 0.01, 3),\n",
      "[I 2023-07-19 12:42:59,921] Trial 57 finished with value: 17742080.0042183 and parameters: {'learning_rate': 0.045528556167939355, 'max_depth': 3, 'n_estimators': 100}. Best is trial 53 with value: 17684256.864174906.\n",
      "C:\\Users\\diego\\AppData\\Local\\Temp\\ipykernel_15776\\4057880884.py:4: FutureWarning: suggest_loguniform has been deprecated in v3.0.0. This feature will be removed in v6.0.0. See https://github.com/optuna/optuna/releases/tag/v3.0.0. Use suggest_float(..., log=True) instead.\n",
      "  'learning_rate' : trial.suggest_loguniform('learning_rate', 0.01, 3),\n",
      "[I 2023-07-19 12:43:00,093] Trial 58 finished with value: 18589189.787387386 and parameters: {'learning_rate': 0.05109689402271321, 'max_depth': 5, 'n_estimators': 100}. Best is trial 53 with value: 17684256.864174906.\n",
      "C:\\Users\\diego\\AppData\\Local\\Temp\\ipykernel_15776\\4057880884.py:4: FutureWarning: suggest_loguniform has been deprecated in v3.0.0. This feature will be removed in v6.0.0. See https://github.com/optuna/optuna/releases/tag/v3.0.0. Use suggest_float(..., log=True) instead.\n",
      "  'learning_rate' : trial.suggest_loguniform('learning_rate', 0.01, 3),\n"
     ]
    },
    {
     "name": "stderr",
     "output_type": "stream",
     "text": [
      "[I 2023-07-19 12:43:00,234] Trial 59 finished with value: 18282409.530477643 and parameters: {'learning_rate': 0.03303868583940881, 'max_depth': 4, 'n_estimators': 100}. Best is trial 53 with value: 17684256.864174906.\n"
     ]
    },
    {
     "name": "stdout",
     "output_type": "stream",
     "text": [
      "Mejores hiperparámetros:\n",
      "{'learning_rate': 0.01737353195796662, 'max_depth': 3, 'n_estimators': 300}\n",
      "Mejor MSE obtenido: 17684256.864174906\n"
     ]
    }
   ],
   "source": [
    "# Función de optimización de hiperparámetros\n",
    "def objective(trial):\n",
    "    params ={\n",
    "        'learning_rate' : trial.suggest_loguniform('learning_rate', 0.01, 3),\n",
    "        'max_depth' : trial.suggest_int('max_depth', 3, 10),\n",
    "        'n_estimators' : trial.suggest_int('n_estimators', 100, 1000, step=100),\n",
    "    }\n",
    "   \n",
    "    X = data.drop('charges', axis=1)\n",
    "    y = data['charges']\n",
    "    \n",
    "    # División de datos en entrenamiento y prueba\n",
    "    X_train, X_test, y_train, y_test = train_test_split(X, y, test_size=0.2, random_state=42)\n",
    "    \n",
    "    #model = XGBRegressor(**params)\n",
    "    model = LGBMRegressor(**params)\n",
    "    model.fit(X_train, y_train)\n",
    "        \n",
    "    y_pred = model.predict(X_test)\n",
    "        \n",
    "    mse = mean_squared_error(y_test, y_pred)\n",
    "\n",
    "    return mse\n",
    "\n",
    "study = optuna.create_study(direction='minimize')\n",
    "study.optimize(objective, n_trials=60)\n",
    "\n",
    "print(\"Mejores hiperparámetros:\")\n",
    "print(study.best_params)\n",
    "\n",
    "best_mse = study.best_value\n",
    "print(\"Mejor MSE obtenido:\", best_mse)"
   ]
  },
  {
   "cell_type": "code",
   "execution_count": 48,
   "id": "ac12dd8f",
   "metadata": {},
   "outputs": [],
   "source": [
    "#dividir conjunto de datos\n",
    "X = data.drop('charges', axis = 1)\n",
    "y = data['charges']\n",
    "\n",
    "# División de datos en entrenamiento y prueba\n",
    "X_train, X_test, y_train, y_test = train_test_split(X, y, test_size=0.2, random_state=42)\n",
    "\n",
    "params = study.best_params\n",
    "model = LGBMRegressor(**params)\n",
    "\n",
    "model.fit(X_train, y_train)\n",
    "        \n",
    "y_pred = model.predict(X_test)\n",
    "        \n",
    "mse = mean_squared_error(y_test, y_pred)\n"
   ]
  },
  {
   "cell_type": "code",
   "execution_count": 49,
   "id": "4723ff13",
   "metadata": {},
   "outputs": [
    {
     "data": {
      "text/plain": [
       "17684256.864174906"
      ]
     },
     "execution_count": 49,
     "metadata": {},
     "output_type": "execute_result"
    }
   ],
   "source": [
    "mse"
   ]
  },
  {
   "cell_type": "code",
   "execution_count": 14,
   "id": "cf7be6ad",
   "metadata": {},
   "outputs": [
    {
     "data": {
      "text/plain": [
       "['C:\\\\Users\\\\diego\\\\OneDrive\\\\Escritorio\\\\mlops_projects\\\\mlops\\\\insurance_online_api\\\\src\\\\..\\\\models\\\\xgb_predictor.joblib']"
      ]
     },
     "execution_count": 14,
     "metadata": {},
     "output_type": "execute_result"
    }
   ],
   "source": [
    "import os\n",
    "from joblib import dump, load\n",
    "\n",
    "# Ruta del directorio actual (ajustar según la ubicación del script en el repositorio)\n",
    "dir_path = os.path.join(os.getcwd(), \"src\")\n",
    "\n",
    "# Ruta de la carpeta \"models\"\n",
    "models_dir = os.path.join(dir_path, \"..\", \"models\")\n",
    "\n",
    "# Crear la carpeta \"models\" si no existe\n",
    "if not os.path.exists(models_dir):\n",
    "    os.makedirs(models_dir)\n",
    "\n",
    "# Ruta del archivo de modelo dentro de la carpeta \"models\"\n",
    "model_path = os.path.join(models_dir, \"xgb_predictor.joblib\")\n",
    "\n",
    "# Guardar el modelo en disco\n",
    "dump(xgb_model, model_path)"
   ]
  },
  {
   "cell_type": "code",
   "execution_count": null,
   "id": "8370908b",
   "metadata": {},
   "outputs": [],
   "source": []
  },
  {
   "cell_type": "code",
   "execution_count": null,
   "id": "d64dd39a",
   "metadata": {},
   "outputs": [],
   "source": []
  }
 ],
 "metadata": {
  "kernelspec": {
   "display_name": "Python 3 (ipykernel)",
   "language": "python",
   "name": "python3"
  },
  "language_info": {
   "codemirror_mode": {
    "name": "ipython",
    "version": 3
   },
   "file_extension": ".py",
   "mimetype": "text/x-python",
   "name": "python",
   "nbconvert_exporter": "python",
   "pygments_lexer": "ipython3",
   "version": "3.9.12"
  }
 },
 "nbformat": 4,
 "nbformat_minor": 5
}
